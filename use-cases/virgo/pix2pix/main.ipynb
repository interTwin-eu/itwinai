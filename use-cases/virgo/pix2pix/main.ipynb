{
 "cells": [
  {
   "cell_type": "markdown",
   "id": "182510a3-287f-4eae-94ce-63703c0f3089",
   "metadata": {
    "tags": []
   },
   "source": [
    "## Initiate the Models"
   ]
  },
  {
   "cell_type": "code",
   "execution_count": null,
   "id": "3f564b24-937b-4e69-95f9-792d152cb4c5",
   "metadata": {},
   "outputs": [],
   "source": [
    "from torch import optim\n",
    "\n",
    "from discriminator import Discriminator\n",
    "from generator import Generator\n",
    "from utils import device, lr, beta1, beta2"
   ]
  },
  {
   "cell_type": "code",
   "execution_count": null,
   "id": "7b97149a-2f9d-47ff-aff4-da1066aaa420",
   "metadata": {},
   "outputs": [],
   "source": [
    "gen = Generator().to(device)\n",
    "disc = Discriminator().to(device)\n",
    "\n",
    "gen_opt = optim.Adam(gen.parameters(), lr=lr, betas=(beta1, beta2))\n",
    "disc_opt = optim.Adam(disc.parameters(), lr=lr, betas=(beta1, beta2))"
   ]
  },
  {
   "cell_type": "markdown",
   "id": "24abc0e9-9536-4128-9583-cc3545353f36",
   "metadata": {
    "tags": []
   },
   "source": [
    "## Load Checkpoints"
   ]
  },
  {
   "cell_type": "code",
   "execution_count": null,
   "id": "fea32333-09de-45ec-be4e-f83c000a3270",
   "metadata": {},
   "outputs": [],
   "source": [
    "import numpy as np\n",
    "import os\n",
    "from utils import checkpoint_dir, save_checkpoint, load_checkpoint"
   ]
  },
  {
   "cell_type": "code",
   "execution_count": null,
   "id": "6c3c8e51-ae1b-425e-8be5-a9a71dbafcbb",
   "metadata": {},
   "outputs": [],
   "source": [
    "checkpoint_files = os.listdir(checkpoint_dir)\n",
    "checkpoint_files = [a for a in checkpoint_files if (a[-4:] == '.pth')]\n",
    "\n",
    "LOAD_MODEL = False\n",
    "if len(checkpoint_files) != 0:\n",
    "    LOAD_MODEL = True\n",
    "    checkpoint_files.sort(key=lambda x: os.path.getmtime(checkpoint_dir + x))\n",
    "    last_checkpoint = checkpoint_files[-1]\n",
    "    \n",
    "SAVE_MODEL = True\n",
    "curr_epoch = 1 if (not LOAD_MODEL) else (load_checkpoint(last_checkpoint, (gen, disc), (gen_opt, disc_opt), lr=lr) + 1)"
   ]
  },
  {
   "cell_type": "markdown",
   "id": "777e715e-06e9-416d-9b81-7eb66e964314",
   "metadata": {},
   "source": [
    "## Training Loop"
   ]
  },
  {
   "cell_type": "code",
   "execution_count": null,
   "id": "833a5b2b-7bbc-4450-a1c3-b5596b272f67",
   "metadata": {},
   "outputs": [],
   "source": [
    "from matplotlib import pyplot as plt\n",
    "from tqdm.auto import tqdm\n",
    "from dataset import dataloader\n",
    "from train import gen_step, disc_step\n",
    "from utils import show_images\n",
    "\n",
    "EPOCHS_PER_CHECKPOINT = 1"
   ]
  },
  {
   "cell_type": "code",
   "execution_count": null,
   "id": "6ea460e8-3ffa-4ece-b84c-caa222dcee60",
   "metadata": {},
   "outputs": [],
   "source": [
    "from dataset import Dataset, DataLoader, BATCH_SIZE, data_folder_name\n",
    "import torch.nn as nn\n",
    "\n",
    "test_data_path = f'../{data_folder_name}/test/'\n",
    "\n",
    "ds = Dataset(test_data_path, size=256, train=False)\n",
    "# ds.items.remove('../aux_channel_two/test/.ipynb_checkpoints')\n",
    "dataloader_test = DataLoader(ds, batch_size=BATCH_SIZE, shuffle=True)\n",
    "\n",
    "loss_mse = nn.MSELoss()\n",
    "loss_l1 = nn.L1Loss()"
   ]
  },
  {
   "cell_type": "code",
   "execution_count": null,
   "id": "561970ab-2fc8-4dde-aada-32bd8d81075f",
   "metadata": {
    "tags": []
   },
   "outputs": [],
   "source": [
    "import torch\n",
    "\n",
    "for epoch in range(curr_epoch, curr_epoch + 100*EPOCHS_PER_CHECKPOINT):\n",
    "    print(f\"Training epoch {epoch}\")\n",
    "    step = 0\n",
    "        \n",
    "    ### Training\n",
    "    gen.training = True\n",
    "    disc.training = True\n",
    "    for (inputs, targets), _ in tqdm(dataloader):\n",
    "        step += 1\n",
    "        inputs, targets = inputs.cuda(), targets.cuda()\n",
    "        Disc_Loss = disc_step(inputs, targets, gen, disc, disc_opt)\n",
    "        \n",
    "        for i in range(2):\n",
    "            Gen_Loss, generator_image = gen_step(inputs, targets, gen, disc, gen_opt)\n",
    "            \n",
    "    ### Validation\n",
    "    gen.training = False\n",
    "    disc.training = False\n",
    "    mse_errors = []\n",
    "    l1_errors = []\n",
    "    wass_error = []\n",
    "    for (inputs, targets), _ in dataloader_test:\n",
    "        generated = gen(inputs.to(device))\n",
    "        mse_errors.append(loss_mse(targets, generated.cpu()).item())\n",
    "        l1_errors.append(loss_l1(targets, generated.cpu()).item())\n",
    "        wass_error.append((torch.mean(disc(inputs.cuda(), targets.cuda())) - torch.mean(disc(inputs.cuda(), generated.cuda()))).item())\n",
    "    \n",
    "    ### Saving checkpoints\n",
    "    if SAVE_MODEL and epoch % EPOCHS_PER_CHECKPOINT == 0:\n",
    "        \n",
    "        checkpoint_files = [a for a in os.listdir(checkpoint_dir) if (a[-4:] == '.pth')]\n",
    "        checkpoint_files.sort(key=lambda x: os.path.getmtime(checkpoint_dir + x))\n",
    "        last_checkpoint = checkpoint_files[-1] if len(checkpoint_files) else None\n",
    "        \n",
    "        filename = \"checkpoint_epoch\" + str(epoch)\n",
    "        save_checkpoint((gen, disc), (gen_opt, disc_opt), curr_epoch=epoch, losses=(Gen_Loss, Disc_Loss), wass=np.mean(wass_error), mse=np.mean(mse_errors), l1=np.mean(l1_errors), last_checkpoint=last_checkpoint, filename=filename)"
   ]
  },
  {
   "cell_type": "markdown",
   "id": "ea02f81d-af60-4cea-90c5-74a3aa7cb03b",
   "metadata": {},
   "source": [
    "## Obtain the evaluation metrics"
   ]
  },
  {
   "cell_type": "code",
   "execution_count": null,
   "id": "3059af2f-9a37-468f-998a-5ee3d0971fd2",
   "metadata": {},
   "outputs": [],
   "source": [
    "import torch\n",
    "\n",
    "dictionary = torch.load('./save_states/' + last_checkpoint)"
   ]
  },
  {
   "cell_type": "code",
   "execution_count": null,
   "id": "a1770c89-7f5c-46b7-95b1-71e97c859eb5",
   "metadata": {},
   "outputs": [],
   "source": [
    "dictionary['wass_error']"
   ]
  },
  {
   "cell_type": "markdown",
   "id": "2cc78db4-bb0a-4321-b332-fa66ceb373e6",
   "metadata": {},
   "source": [
    "<strong>You can choose from:</strong><br>\n",
    "<ul>\n",
    "<li>'l1_error'</li>\n",
    "<li>'mse_error'</li>\n",
    "<li>'loss_gen'</li>\n",
    "<li>'loss_disc'</li>\n",
    "<li>'wass_error'</li>\n",
    "</ul>"
   ]
  }
 ],
 "metadata": {
  "kernelspec": {
   "display_name": "pytorch",
   "language": "python",
   "name": "pytorch"
  },
  "language_info": {
   "codemirror_mode": {
    "name": "ipython",
    "version": 3
   },
   "file_extension": ".py",
   "mimetype": "text/x-python",
   "name": "python",
   "nbconvert_exporter": "python",
   "pygments_lexer": "ipython3",
   "version": "3.7.12"
  }
 },
 "nbformat": 4,
 "nbformat_minor": 5
}
