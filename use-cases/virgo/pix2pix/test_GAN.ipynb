{
 "cells": [
  {
   "cell_type": "code",
   "execution_count": null,
   "id": "3816ebfc-824c-46a6-96ad-c46d2e47b3fb",
   "metadata": {},
   "outputs": [],
   "source": [
    "from torch import optim\n",
    "\n",
    "from discriminator import Discriminator\n",
    "from generator import Generator, OUTPUT_CHANNELS\n",
    "from utils import device, lr, beta1, beta2\n",
    "\n",
    "gen = Generator().to(device)\n",
    "disc = Discriminator().to(device)\n",
    "\n",
    "gen_opt = optim.Adam(gen.parameters(), lr=lr, betas=(beta1, beta2))\n",
    "disc_opt = optim.Adam(disc.parameters(), lr=lr, betas=(beta1, beta2))"
   ]
  },
  {
   "cell_type": "code",
   "execution_count": null,
   "id": "c4679a60-a5de-461a-bd0e-9a07a6f90fd2",
   "metadata": {},
   "outputs": [],
   "source": [
    "import numpy as np\n",
    "import os\n",
    "from utils import checkpoint_dir, save_checkpoint, load_checkpoint\n",
    "\n",
    "checkpoint_files = os.listdir(checkpoint_dir)\n",
    "checkpoint_files = [a for a in checkpoint_files if (a[-4:] == '.pth')]\n",
    "\n",
    "LOAD_MODEL = False\n",
    "if len(checkpoint_files) != 0:\n",
    "    LOAD_MODEL = True\n",
    "    checkpoint_files.sort(key=lambda x: os.path.getmtime(checkpoint_dir + x))\n",
    "    last_checkpoint = checkpoint_files[-1]\n",
    "    \n",
    "SAVE_MODEL = True\n",
    "curr_epoch = 1 if (not LOAD_MODEL) else (load_checkpoint(last_checkpoint, (gen, disc), (gen_opt, disc_opt), lr=lr) + 1)"
   ]
  },
  {
   "cell_type": "code",
   "execution_count": null,
   "id": "39c60cf4-cd69-4c29-b42e-f23b454878f2",
   "metadata": {},
   "outputs": [],
   "source": [
    "import torch\n",
    "\n",
    "my_checkpoint = torch.load(checkpoint_dir + last_checkpoint)\n",
    "\n",
    "gen_loss = my_checkpoint['loss_gen']\n",
    "disc_loss = my_checkpoint['loss_disc']"
   ]
  },
  {
   "cell_type": "code",
   "execution_count": null,
   "id": "e4c4d124-048d-4707-bba6-a25080696b6f",
   "metadata": {},
   "outputs": [],
   "source": [
    "from dataset import Dataset, DataLoader, BATCH_SIZE, data_folder_name\n",
    "\n",
    "use_test = True\n",
    "\n",
    "test_data_path = f'../{data_folder_name}/{\"test\" if use_test else \"train\"}/'\n",
    "\n",
    "ds = Dataset(test_data_path, size=256, train=False)\n",
    "dataloader_test = DataLoader(ds, batch_size=BATCH_SIZE, shuffle=True)\n",
    "\n",
    "gen.train = False"
   ]
  },
  {
   "cell_type": "code",
   "execution_count": null,
   "id": "e7bd431c-f73a-46da-b81b-fd81b22265d9",
   "metadata": {},
   "outputs": [],
   "source": [
    "import torch.nn as nn\n",
    "\n",
    "loss_l1 = nn.L1Loss()\n",
    "loss_mse = nn.MSELoss()"
   ]
  },
  {
   "cell_type": "code",
   "execution_count": null,
   "id": "edf3243d-427e-4074-af10-a29ea6d6b739",
   "metadata": {},
   "outputs": [],
   "source": [
    "import matplotlib.pyplot as plt\n",
    "\n",
    "(inp, tar), _ = next(iter(dataloader_test))\n",
    "\n",
    "generated = gen(inp.to(device))\n",
    "\n",
    "fig, axs = plt.subplots(1, 3, figsize=(20, 30))\n",
    "axs[0].imshow(inp[0].detach().permute(1, 2, 0) * 0.5 + 0.5)\n",
    "axs[0].set_title('Observed')\n",
    "axs[1].imshow(tar[0].detach().permute(1, 2, 0) * 0.5 + 0.5)\n",
    "axs[1].set_title('Real')\n",
    "axs[2].imshow(generated[0].detach().permute(1, 2, 0).cpu() * 0.5 + 0.5)\n",
    "axs[2].set_title('Generated')"
   ]
  },
  {
   "cell_type": "markdown",
   "id": "54d2b030-c9e1-48c8-bed9-84f016e32afa",
   "metadata": {},
   "source": [
    "## Display some average images (L1 loss between 0.16 and 0.18)"
   ]
  },
  {
   "cell_type": "code",
   "execution_count": null,
   "id": "a96cbb58-5601-4e13-b28f-2d130edee952",
   "metadata": {},
   "outputs": [],
   "source": [
    "i = 0\n",
    "\n",
    "for (inp, tar), _ in dataloader_test:\n",
    "    \n",
    "    generated = gen(inp.to(device))\n",
    "    \n",
    "    if i >= 5:\n",
    "        break\n",
    "\n",
    "    if loss_l1(tar, generated.cpu()) >= 0.16 and loss_l1(tar, generated.cpu()) <= 0.18:\n",
    "    # if loss_l1(tar, generated.cpu()) <= 0.12:\n",
    "\n",
    "        i += 1\n",
    "        fig, axs = plt.subplots(1, 3, figsize=(20, 30))\n",
    "        axs[0].imshow(inp[0].detach().permute(1, 2, 0) * 0.5 + 0.5)\n",
    "        axs[0].set_title('Observed')\n",
    "        axs[1].imshow(tar[0].detach().permute(1, 2, 0) * 0.5 + 0.5)\n",
    "        axs[1].set_title('Real')\n",
    "        axs[2].imshow(generated[0].detach().permute(1, 2, 0).cpu() * 0.5 + 0.5)\n",
    "        axs[2].set_title('Generated')\n",
    "        # print(f'DISCRIMINATOR EVALUATION ON REAL IMAGE: {torch.mean(disc(inp.cuda(), tar.cuda()))}')\n",
    "        # print(f'DISCRIMINATOR EVALUATION ON GENERATED IMAGE: {torch.mean(disc(inp.cuda(), generated.cuda()))}')\n",
    "        \n",
    "        plt.show()"
   ]
  },
  {
   "cell_type": "markdown",
   "id": "b0fd1f48-f2fa-40d1-aa5f-670e1caa1e6f",
   "metadata": {},
   "source": [
    "## Display bad or good images thanks to wasserstain distance"
   ]
  },
  {
   "cell_type": "code",
   "execution_count": null,
   "id": "c23bbdcd-47b2-4205-b39a-8984c7752c34",
   "metadata": {},
   "outputs": [],
   "source": [
    "i = 0\n",
    "\n",
    "for (inp, tar), _ in dataloader_test:\n",
    "    i += 1\n",
    "    if i == 50:\n",
    "        break\n",
    "        \n",
    "    generated = gen(inp.to(device))\n",
    "    wass_loss = (torch.mean(disc(inp.cuda(), tar.cuda())) - torch.mean(disc(inp.cuda(), generated.cuda()))).item()\n",
    "    \n",
    "    # With wass_loss > 20.0 we obtain bad images, with wass_loss < 10.0 we obtain good images\n",
    "    if wass_loss > 20.0:\n",
    "    \n",
    "        fig, axs = plt.subplots(1, 3, figsize=(20, 30))\n",
    "        axs[0].imshow(inp[0].detach().permute(1, 2, 0) * 0.5 + 0.5)\n",
    "        axs[0].set_title('Observed')\n",
    "        axs[1].imshow(tar[0].detach().permute(1, 2, 0) * 0.5 + 0.5)\n",
    "        axs[1].set_title('Real')\n",
    "        axs[2].imshow(generated[0].detach().permute(1, 2, 0).cpu() * 0.5 + 0.5)\n",
    "        axs[2].set_title('Generated')\n",
    "\n",
    "        plt.show()\n",
    "        print(f'WASS LOSS: {wass_loss}')\n",
    "    "
   ]
  }
 ],
 "metadata": {
  "kernelspec": {
   "display_name": "pytorch",
   "language": "python",
   "name": "pytorch"
  },
  "language_info": {
   "codemirror_mode": {
    "name": "ipython",
    "version": 3
   },
   "file_extension": ".py",
   "mimetype": "text/x-python",
   "name": "python",
   "nbconvert_exporter": "python",
   "pygments_lexer": "ipython3",
   "version": "3.7.12"
  }
 },
 "nbformat": 4,
 "nbformat_minor": 5
}
