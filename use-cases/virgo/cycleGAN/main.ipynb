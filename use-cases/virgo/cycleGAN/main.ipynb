{
 "cells": [
  {
   "cell_type": "markdown",
   "id": "182510a3-287f-4eae-94ce-63703c0f3089",
   "metadata": {},
   "source": [
    "## Initiate the Models"
   ]
  },
  {
   "cell_type": "code",
   "execution_count": null,
   "id": "3f564b24-937b-4e69-95f9-792d152cb4c5",
   "metadata": {},
   "outputs": [],
   "source": [
    "from torch import optim\n",
    "import torch\n",
    "\n",
    "from discriminator import Discriminator\n",
    "from generator import Generator, OUTPUT_CHANNELS\n",
    "from utils import device, lr, beta1, beta2"
   ]
  },
  {
   "cell_type": "code",
   "execution_count": null,
   "id": "7b97149a-2f9d-47ff-aff4-da1066aaa420",
   "metadata": {},
   "outputs": [],
   "source": [
    "import gc\n",
    "torch.cuda.empty_cache()\n",
    "gc.collect()\n",
    "\n",
    "gen_x = Generator(OUTPUT_CHANNELS).to(device)  # Generates Xs from Ys\n",
    "gen_y = Generator(OUTPUT_CHANNELS).to(device)  # Generates Ys from Xs\n",
    "disc_x = Discriminator().to(device)  # Discriminates real Xs from fake Xs\n",
    "disc_y = Discriminator().to(device)  # Discriminates real Ys from fake Ys\n",
    "\n",
    "gen_x_opt = optim.Adam(gen_x.parameters(), lr=lr, betas=(beta1, beta2))\n",
    "gen_y_opt = optim.Adam(gen_y.parameters(), lr=lr, betas=(beta1, beta2))\n",
    "disc_x_opt = optim.Adam(disc_x.parameters(), lr=lr, betas=(beta1, beta2))\n",
    "disc_y_opt = optim.Adam(disc_y.parameters(), lr=lr, betas=(beta1, beta2))"
   ]
  },
  {
   "cell_type": "markdown",
   "id": "24abc0e9-9536-4128-9583-cc3545353f36",
   "metadata": {},
   "source": [
    "## Load Checkpoints"
   ]
  },
  {
   "cell_type": "code",
   "execution_count": null,
   "id": "fea32333-09de-45ec-be4e-f83c000a3270",
   "metadata": {},
   "outputs": [],
   "source": [
    "import numpy as np\n",
    "import os\n",
    "from utils import checkpoint_dir, save_checkpoint, load_checkpoint"
   ]
  },
  {
   "cell_type": "code",
   "execution_count": null,
   "id": "6c3c8e51-ae1b-425e-8be5-a9a71dbafcbb",
   "metadata": {},
   "outputs": [],
   "source": [
    "checkpoint_files = os.listdir(checkpoint_dir)\n",
    "checkpoint_files = [a for a in checkpoint_files if (a[-4:] == '.pth')]\n",
    "\n",
    "LOAD_MODEL = False\n",
    "if len(checkpoint_files) != 0:\n",
    "    LOAD_MODEL = True\n",
    "    checkpoint_files.sort(key=lambda x: os.path.getmtime(checkpoint_dir + x))\n",
    "    last_checkpoint = checkpoint_files[-1]\n",
    "    \n",
    "SAVE_MODEL = True\n",
    "curr_epoch = 1 if (not LOAD_MODEL) else (load_checkpoint(last_checkpoint, (gen_x, gen_y, disc_x, disc_y), (gen_x_opt, gen_y_opt, disc_x_opt, disc_y_opt), lr=lr) + 1)"
   ]
  },
  {
   "cell_type": "markdown",
   "id": "777e715e-06e9-416d-9b81-7eb66e964314",
   "metadata": {},
   "source": [
    "## Training Loop"
   ]
  },
  {
   "cell_type": "code",
   "execution_count": null,
   "id": "833a5b2b-7bbc-4450-a1c3-b5596b272f67",
   "metadata": {},
   "outputs": [],
   "source": [
    "from matplotlib import pyplot as plt\n",
    "from tqdm.auto import tqdm\n",
    "from dataset import dataloader\n",
    "from train import gen_x_step, gen_y_step, disc_x_step, disc_y_step, train_step\n",
    "from utils import show_images, device\n",
    "\n",
    "EPOCHS_PER_CHECKPOINT = 1"
   ]
  },
  {
   "cell_type": "code",
   "execution_count": null,
   "id": "ec43797e-a938-4f81-a50c-528fe9d4d378",
   "metadata": {},
   "outputs": [],
   "source": [
    "from dataset import Dataset, DataLoader, BATCH_SIZE, dataset_folder_name\n",
    "import torch.nn as nn\n",
    "\n",
    "test_data_path = f'../{dataset_folder_name}/test/'\n",
    "\n",
    "ds = Dataset(test_data_path, size=256, train=False)\n",
    "# ds.items.remove('../aux_channel_two/test/.ipynb_checkpoints')\n",
    "dataloader_test = DataLoader(ds, batch_size=BATCH_SIZE, shuffle=True)\n",
    "\n",
    "loss_mse = nn.MSELoss()\n",
    "loss_l1 = nn.L1Loss()"
   ]
  },
  {
   "cell_type": "code",
   "execution_count": null,
   "id": "561970ab-2fc8-4dde-aada-32bd8d81075f",
   "metadata": {},
   "outputs": [],
   "source": [
    "for epoch in range(curr_epoch, curr_epoch + 100 * EPOCHS_PER_CHECKPOINT):\n",
    "    print(f\"Training epoch {epoch}\")\n",
    "    step = 0\n",
    "    for (strain, _), (aux, _) in tqdm(dataloader):\n",
    "        step += 1\n",
    "        strain, aux = strain.to(device), aux.to(device)\n",
    "        \n",
    "        gen_x_loss, _ = gen_x_step(strain, aux, gen_x, gen_x_opt, gen_y, disc_x)\n",
    "        gen_y_loss, _ = gen_y_step(strain, aux, gen_y, gen_y_opt, gen_x, disc_y)\n",
    "        disc_x_loss = disc_x_step(strain, aux, disc_x, disc_x_opt, gen_x)\n",
    "        disc_y_loss = disc_y_step(strain, aux, disc_y, disc_y_opt, gen_y)\n",
    "        \n",
    "    ### Validation\n",
    "    mse_errors_x = []\n",
    "    mse_errors_y = []\n",
    "    l1_errors_x = []\n",
    "    l1_errors_y = []\n",
    "    for (strain, real_aux), (aux, real_strain) in dataloader_test:\n",
    "        generated_strain = gen_x(aux.to(device))\n",
    "        generated_aux = gen_y(strain.to(device))\n",
    "        mse_errors_x.append(loss_mse(real_strain, generated_strain.cpu()).item())\n",
    "        mse_errors_y.append(loss_mse(real_aux, generated_aux.cpu()).item())\n",
    "        l1_errors_x.append(loss_l1(real_strain, generated_strain.cpu()).item())\n",
    "        l1_errors_y.append(loss_l1(real_aux, generated_aux.cpu()).item())\n",
    "        \n",
    "    if SAVE_MODEL and epoch % EPOCHS_PER_CHECKPOINT == 0:\n",
    "        \n",
    "        checkpoint_files = [a for a in os.listdir(checkpoint_dir) if (a[-4:] == '.pth')]\n",
    "        checkpoint_files.sort(key=lambda x: os.path.getmtime(checkpoint_dir + x))\n",
    "        last_checkpoint = checkpoint_files[-1] if len(checkpoint_files) else None\n",
    "        \n",
    "        filename = \"checkpoint_epoch\" + str(epoch)\n",
    "        save_checkpoint((gen_x, gen_y, disc_x, disc_y), (gen_x_opt, gen_y_opt, disc_x_opt, disc_y_opt), curr_epoch=epoch, losses=((gen_x_loss, gen_y_loss), (disc_x_loss, disc_y_loss)), mse=(np.mean(mse_errors_x), np.mean(mse_errors_y)), l1=(np.mean(l1_errors_x), np.mean(l1_errors_y)), last_checkpoint=last_checkpoint, filename=filename)"
   ]
  },
  {
   "cell_type": "markdown",
   "id": "2d4451eb-3187-4e50-8eed-acc0a293aba5",
   "metadata": {},
   "source": [
    "## Obtain the evaluation metrics"
   ]
  },
  {
   "cell_type": "code",
   "execution_count": null,
   "id": "cfa1b6e5-62f1-4ef1-8cc9-a6d2d8125006",
   "metadata": {},
   "outputs": [],
   "source": [
    "import torch\n",
    "\n",
    "dictionary = torch.load('./save_states/' + last_checkpoint)"
   ]
  },
  {
   "cell_type": "code",
   "execution_count": null,
   "id": "6d091525-62ce-4629-9c5c-a0457b778d8c",
   "metadata": {},
   "outputs": [],
   "source": [
    "dictionary['l1_error_x']"
   ]
  },
  {
   "cell_type": "markdown",
   "id": "77a68fd6-3441-4847-b93e-18e9fe5542a4",
   "metadata": {},
   "source": [
    "<strong>You can choose from:</strong><br>\n",
    "<ul>\n",
    "<li>'l1_error_x'</li>\n",
    "<li>'l1_error_y'</li>\n",
    "<li>'mse_error_x'</li>\n",
    "<li>'mse_error_y'</li>\n",
    "<li>'loss_gen_x'</li>\n",
    "<li>'loss_gen_y'</li>\n",
    "<li>'loss_disc_x'</li>\n",
    "<li>'loss_disc_y'</li>\n",
    "</ul>"
   ]
  }
 ],
 "metadata": {
  "kernelspec": {
   "display_name": "pytorch",
   "language": "python",
   "name": "pytorch"
  },
  "language_info": {
   "codemirror_mode": {
    "name": "ipython",
    "version": 3
   },
   "file_extension": ".py",
   "mimetype": "text/x-python",
   "name": "python",
   "nbconvert_exporter": "python",
   "pygments_lexer": "ipython3",
   "version": "3.7.12"
  }
 },
 "nbformat": 4,
 "nbformat_minor": 5
}
