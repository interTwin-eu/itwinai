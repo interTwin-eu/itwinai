{
 "cells": [
  {
   "cell_type": "code",
   "execution_count": null,
   "id": "dea27f66-d18d-413f-b4bf-07d6da18ce05",
   "metadata": {},
   "outputs": [],
   "source": [
    "from torch import optim\n",
    "\n",
    "from discriminator import Discriminator\n",
    "from generator import Generator, OUTPUT_CHANNELS\n",
    "from utils import device, lr, beta1, beta2\n",
    "\n",
    "gen_x = Generator(OUTPUT_CHANNELS).to(device)  # Generates Xs from Ys\n",
    "gen_y = Generator(OUTPUT_CHANNELS).to(device)  # Generates Ys from Xs\n",
    "disc_x = Discriminator().to(device)  # Discriminates real Xs from fake Xs\n",
    "disc_y = Discriminator().to(device)  # Discriminates real Ys from fake Ys\n",
    "\n",
    "gen_x_opt = optim.Adam(gen_x.parameters(), lr=lr, betas=(beta1, beta2))\n",
    "gen_y_opt = optim.Adam(gen_y.parameters(), lr=lr, betas=(beta1, beta2))\n",
    "disc_x_opt = optim.Adam(disc_x.parameters(), lr=lr, betas=(beta1, beta2))\n",
    "disc_y_opt = optim.Adam(disc_y.parameters(), lr=lr, betas=(beta1, beta2))"
   ]
  },
  {
   "cell_type": "code",
   "execution_count": null,
   "id": "5670226f-a908-4020-888f-17c6c60345ac",
   "metadata": {},
   "outputs": [],
   "source": [
    "import numpy as np\n",
    "import os\n",
    "from utils import checkpoint_dir, save_checkpoint, load_checkpoint\n",
    "\n",
    "checkpoint_files = os.listdir(checkpoint_dir)\n",
    "checkpoint_files = [a for a in checkpoint_files if (a[-4:] == '.pth')]\n",
    "\n",
    "LOAD_MODEL = False\n",
    "if len(checkpoint_files) != 0:\n",
    "    LOAD_MODEL = True\n",
    "    checkpoint_files.sort(key=lambda x: os.path.getmtime(checkpoint_dir + x))\n",
    "    last_checkpoint = checkpoint_files[-1]\n",
    "    \n",
    "SAVE_MODEL = True\n",
    "curr_epoch = 1 if (not LOAD_MODEL) else (load_checkpoint(last_checkpoint, (gen_x, gen_y, disc_x, disc_y), (gen_x_opt, gen_y_opt, disc_x_opt, disc_y_opt), lr=lr) + 1)"
   ]
  },
  {
   "cell_type": "code",
   "execution_count": null,
   "id": "0b1e1fd9-131d-47fd-baf1-4084d027035f",
   "metadata": {},
   "outputs": [],
   "source": [
    "from dataset import Dataset, DataLoader, BATCH_SIZE, dataset_folder_name\n",
    "\n",
    "use_test = True\n",
    "\n",
    "test_data_path = f'../{dataset_folder_name}/{\"test\" if use_test else \"train\"}/'\n",
    "\n",
    "ds = Dataset(test_data_path, size=256, train=False)\n",
    "dataloader_test = DataLoader(ds, batch_size=BATCH_SIZE, shuffle=True)\n",
    "\n",
    "gen_x.train = False\n",
    "gen_y.train = False"
   ]
  },
  {
   "cell_type": "code",
   "execution_count": null,
   "id": "205c76b8-f773-49be-bdf0-9dcf4e35523e",
   "metadata": {},
   "outputs": [],
   "source": [
    "(strain, real_aux), (aux, real_strain) = next(iter(dataloader_test))"
   ]
  },
  {
   "cell_type": "code",
   "execution_count": null,
   "id": "382c559c-1172-4741-9e07-4a8fa10c00b3",
   "metadata": {},
   "outputs": [],
   "source": [
    "import matplotlib.pyplot as plt\n",
    "\n",
    "(strain, real_aux), (aux, real_strain) = next(iter(dataloader_test))\n",
    "\n",
    "gen_aux = gen_y(strain.to(device))\n",
    "gen_strain = gen_x(aux.to(device))\n",
    "\n",
    "fig, axs = plt.subplots(1, 4, figsize=(20, 40))\n",
    "axs[0].imshow(real_aux[0].detach().permute(1, 2, 0).cpu() * 0.5 + 0.5)\n",
    "axs[0].set_title('Real Aux Image')\n",
    "axs[1].imshow(gen_aux[0].detach().permute(1, 2, 0).cpu() * 0.5 + 0.5)\n",
    "axs[1].set_title('Generated Aux')\n",
    "axs[2].imshow(real_strain[0].detach().permute(1, 2, 0).cpu() * 0.5 + 0.5)\n",
    "axs[2].set_title('Real Strain Image')\n",
    "axs[3].imshow(gen_strain[0].detach().permute(1, 2, 0).cpu() * 0.5 + 0.5)\n",
    "axs[3].set_title('Generated Strain')"
   ]
  }
 ],
 "metadata": {
  "kernelspec": {
   "display_name": "pytorch",
   "language": "python",
   "name": "pytorch"
  },
  "language_info": {
   "codemirror_mode": {
    "name": "ipython",
    "version": 3
   },
   "file_extension": ".py",
   "mimetype": "text/x-python",
   "name": "python",
   "nbconvert_exporter": "python",
   "pygments_lexer": "ipython3",
   "version": "3.7.12"
  }
 },
 "nbformat": 4,
 "nbformat_minor": 5
}
