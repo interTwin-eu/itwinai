{
 "cells": [
  {
   "cell_type": "markdown",
   "metadata": {},
   "source": [
    "## Preprocess Data for seasonal VAEs"
   ]
  },
  {
   "cell_type": "markdown",
   "metadata": {},
   "source": [
    "The aim of this notebook is to translate NetCDF files (.nc) of three daily climate variables (maximum temperature, precipitations, wind) to four numpy 3D-arrays: one for each season. These output arrays can easily be read for training and evaluating the Convolutional Variational AutoEncoder model."
   ]
  },
  {
   "cell_type": "markdown",
   "metadata": {},
   "source": [
    "#### 0. Libraries"
   ]
  },
  {
   "cell_type": "code",
   "execution_count": 1,
   "metadata": {},
   "outputs": [],
   "source": [
    "import numpy as np\n",
    "import matplotlib.pyplot as plt\n",
    "import xarray as xr\n",
    "import cftime\n",
    "import cartopy.crs as ccrs\n",
    "import csv\n",
    "import pandas as pd\n",
    "from datetime import datetime"
   ]
  },
  {
   "cell_type": "markdown",
   "metadata": {},
   "source": [
    "#### 1. Load Data to xarray"
   ]
  },
  {
   "cell_type": "code",
   "execution_count": 3,
   "metadata": {},
   "outputs": [],
   "source": [
    "train_images = np.load(\"../input/preprocessed_1d_train_data_allssp.npy\")\n",
    "test_images = np.load(\"../input/preprocessed_1d_test_data_allssp.npy\")\n",
    "histo_images = np.load(\"../input/preprocessed_1d_histo_data_allssp.npy\")\n",
    "histo_time = pd.read_csv(\"../input/dates_histo_data.csv\")\n",
    "train_time = pd.read_csv(\"../input/dates_train_data.csv\")\n",
    "test_time = pd.read_csv(\"../input/dates_test_data.csv\")"
   ]
  },
  {
   "cell_type": "code",
   "execution_count": 15,
   "metadata": {},
   "outputs": [],
   "source": [
    "scenario = '585'\n",
    "proj_images = np.load(f\"../input/preprocessed_1d_proj{scenario}_data_allssp.npy\")\n",
    "proj_time = pd.read_csv(\"../input/dates_proj_data.csv\")"
   ]
  },
  {
   "cell_type": "markdown",
   "metadata": {},
   "source": [
    "#### 2. Split Yearly Data into Four Seasonal Datasets"
   ]
  },
  {
   "cell_type": "code",
   "execution_count": 6,
   "metadata": {},
   "outputs": [],
   "source": [
    "def season_split(images: np.ndarray, \n",
    "                 time: pd.DataFrame,\n",
    "                 keyword: str,\n",
    "                 scenario: str = '',\n",
    "                 saving_on: bool = False\n",
    "                ) -> (list[np.ndarray],\n",
    "                      list[pd.DataFrame]):\n",
    "\n",
    "    n_years = int(len(images)/365)\n",
    "\n",
    "    # 1st April = index 90\n",
    "    # 1st July = index 181\n",
    "    # 1st October = index 273\n",
    "    winter_index = [365*i + j for i in range(n_years) for j in range(90)]\n",
    "    spring_index = [365*i + j for i in range(n_years) for j in range(90, 181)]\n",
    "    summer_index = [365*i + j for i in range(n_years) for j in range(181, 273)]\n",
    "    autumn_index = [365*i + j for i in range(n_years) for j in range(273, 365)]\n",
    "\n",
    "    winter_images = images[winter_index]\n",
    "    spring_images = images[spring_index]\n",
    "    summer_images = images[summer_index]\n",
    "    autumn_images = images[autumn_index]\n",
    "    \n",
    "    winter_time = time.loc[winter_index].iloc[:,1]\n",
    "    spring_time = time.loc[spring_index].iloc[:,1]\n",
    "    summer_time = time.loc[summer_index].iloc[:,1]\n",
    "    autumn_time = time.loc[autumn_index].iloc[:,1]\n",
    "    \n",
    "    # save results as an input for CVAE training\n",
    "    if saving_on:\n",
    "        np.save(f\"../input/preprocessed_1d_{keyword}{scenario}_winter_data_allssp.npy\", winter_images)\n",
    "        np.save(f\"../input/preprocessed_1d_{keyword}{scenario}_spring_data_allssp.npy\", spring_images)\n",
    "        np.save(f\"../input/preprocessed_1d_{keyword}{scenario}_summer_data_allssp.npy\", summer_images)\n",
    "        np.save(f\"../input/preprocessed_1d_{keyword}{scenario}_autumn_data_allssp.npy\", autumn_images)\n",
    "        #pd.DataFrame(winter_time).to_csv(f'../input/dates_{keyword}_winter_data.csv')\n",
    "        #pd.DataFrame(spring_time).to_csv(f'../input/dates_{keyword}_spring_data.csv')\n",
    "        #pd.DataFrame(summer_time).to_csv(f'../input/dates_{keyword}_summer_data.csv')\n",
    "        #pd.DataFrame(autumn_time).to_csv(f'../input/dates_{keyword}_autumn_data.csv')\n",
    "    \n",
    "    season_images = [winter_images, spring_images, summer_images, autumn_images]\n",
    "    season_time = winter_time, spring_time, summer_time, autumn_time\n",
    "    \n",
    "    return season_images, season_time"
   ]
  },
  {
   "cell_type": "markdown",
   "metadata": {},
   "source": [
    "#### 3. Apply to History, Training, Test, and Projection Datasets"
   ]
  },
  {
   "cell_type": "code",
   "execution_count": 3,
   "metadata": {},
   "outputs": [],
   "source": [
    "#season_images, season_time = season_split(histo_images, histo_time, \n",
    "#                                          'histo', True)"
   ]
  },
  {
   "cell_type": "code",
   "execution_count": 7,
   "metadata": {},
   "outputs": [],
   "source": [
    "train_season_images, train_season_time = season_split(train_images, \n",
    "                                                      train_time, \n",
    "                                                      'train',\n",
    "                                                      '',\n",
    "                                                      True)"
   ]
  },
  {
   "cell_type": "code",
   "execution_count": 8,
   "metadata": {},
   "outputs": [],
   "source": [
    "test_season_images, test_season_time = season_split(test_images, \n",
    "                                                    test_time, \n",
    "                                                    'test',\n",
    "                                                    '',\n",
    "                                                    True)"
   ]
  },
  {
   "cell_type": "code",
   "execution_count": 16,
   "metadata": {},
   "outputs": [],
   "source": [
    "proj_season_images, proj_season_time = season_split(proj_images, \n",
    "                                                    proj_time, \n",
    "                                                    'proj',\n",
    "                                                    scenario,\n",
    "                                                    True)"
   ]
  },
  {
   "cell_type": "code",
   "execution_count": null,
   "metadata": {},
   "outputs": [],
   "source": []
  }
 ],
 "metadata": {
  "kernelspec": {
   "display_name": "xtclim",
   "language": "python",
   "name": "xtclim"
  },
  "language_info": {
   "codemirror_mode": {
    "name": "ipython",
    "version": 3
   },
   "file_extension": ".py",
   "mimetype": "text/x-python",
   "name": "python",
   "nbconvert_exporter": "python",
   "pygments_lexer": "ipython3",
   "version": "3.9.5"
  }
 },
 "nbformat": 4,
 "nbformat_minor": 5
}
