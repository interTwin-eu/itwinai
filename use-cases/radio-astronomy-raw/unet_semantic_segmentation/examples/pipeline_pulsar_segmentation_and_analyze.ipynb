{
 "cells": [
  {
   "cell_type": "markdown",
   "metadata": {},
   "source": [
    "#### Imports"
   ]
  },
  {
   "cell_type": "code",
   "execution_count": null,
   "metadata": {},
   "outputs": [],
   "source": [
    "from os import chdir\n",
    "import matplotlib.pyplot as plt\n",
    "%matplotlib inline\n",
    "chdir('../')\n",
    "\n",
    "from src.pulsar_analysis.train_neural_network_model import ImageMaskPair\n",
    "from src.pulsar_analysis.preprocessing import PrepareFreqTimeImage, BinarizeToMask\n",
    "from src.pulsar_analysis.postprocessing import DelayGraph,LineClassifier,ConnectedComponents,FitSegmentedTraces\n",
    "\n",
    "from src.pulsar_analysis.train_neural_network_model import TrainImageToMaskNetworkModel,ImageToMaskDataset,InMaskToMaskDataset\n",
    "from src.pulsar_analysis.neural_network_models import UNet, CustomLossUNet, UNetFilter, FilterCNN, CustomLossSemanticSeg, CNN1D, WeightedBCELoss\n",
    "\n",
    "from src.pulsar_analysis.train_neural_network_model import TrainSignalToLabelModel,SignalToLabelDataset\n",
    "from src.pulsar_analysis.neural_network_models import OneDconvEncoder,Simple1DCnnClassifier\n",
    "\n",
    "from pulsar_simulation.generate_data_pipeline import generate_example_payloads_for_training\n",
    "from src.pulsar_analysis.pipeline_methods import ImageDataSet, ImageReader,LabelDataSet,LabelReader,PipelineImageToCCtoLabels, PipelineImageToMask, PipelineImageToFilterToCCtoLabels"
   ]
  },
  {
   "cell_type": "markdown",
   "metadata": {},
   "source": [
    "#### Preset Image Mask InMask Label loaders"
   ]
  },
  {
   "cell_type": "markdown",
   "metadata": {},
   "source": [
    "- Generate training and test data"
   ]
  },
  {
   "cell_type": "code",
   "execution_count": null,
   "metadata": {},
   "outputs": [],
   "source": [
    "#: Run this node only if training and test data needs to be generated\n",
    "generate_example_payloads_for_training(tag='train_v0_',\n",
    "                                       num_payloads=100,\n",
    "                                       plot_a_example=True,\n",
    "                                       param_folder='./syn_data/runtime/',\n",
    "                                       payload_folder='./syn_data/payloads/',\n",
    "                                       num_cpus=10 #: choose based on the number of nodes/cores in your system\n",
    "                                       )\n",
    "\n",
    "generate_example_payloads_for_training(tag='test_v0_',\n",
    "                                       num_payloads=100,\n",
    "                                       plot_a_example=True,\n",
    "                                       param_folder='./syn_data/runtime/',\n",
    "                                       payload_folder='./syn_data/payloads/',\n",
    "                                       num_cpus=10 #: choose based on the number of nodes/cores in your system\n",
    "                                       )"
   ]
  },
  {
   "cell_type": "code",
   "execution_count": null,
   "metadata": {},
   "outputs": [],
   "source": [
    "image_preprocessing_engine = PrepareFreqTimeImage(\n",
    "                                                do_rot_phase_avg=True,\n",
    "                                                do_binarize=False,\n",
    "                                                do_resize=True,\n",
    "                                                resize_size=(128,128),\n",
    "                                                )\n",
    "mask_preprocessing_engine = PrepareFreqTimeImage(\n",
    "                                                do_rot_phase_avg=True,\n",
    "                                                do_binarize=True,\n",
    "                                                do_resize=True,\n",
    "                                                resize_size=(128,128),\n",
    "                                                binarize_engine = BinarizeToMask(binarize_func=\"thresh\")#BinarizeToMask(binarize_func='gaussian_blur') # or 'exponential'\n",
    "                                                )\n",
    "\n",
    "cnn_model_to_make_mask_path: str = './syn_data/model/trained_UNet_test_v0.pt'\n",
    "mask_maker_engine = PipelineImageToMask(\n",
    "                                image_to_mask_network=UNet(),\n",
    "                                trained_image_to_mask_network_path=cnn_model_to_make_mask_path,                     \n",
    "                                )\n",
    "\n",
    "signal_maker_engine = DelayGraph()\n",
    "\n",
    "label_reader_engine = LabelReader()\n"
   ]
  },
  {
   "cell_type": "markdown",
   "metadata": {},
   "source": [
    "- Load image mask inmask and labels using the engines"
   ]
  },
  {
   "cell_type": "code",
   "execution_count": null,
   "metadata": {},
   "outputs": [],
   "source": [
    "idx = 0\n",
    "\n",
    "image_payload_file_path = './syn_data/payloads/' + 'train_v0_'+str(idx)+'_payload_detected.json'\n",
    "image_preprocessing_engine.plot(payload_address=image_payload_file_path)\n",
    "\n",
    "mask_payload_file_path = './syn_data/payloads/' + 'train_v0_'+str(idx)+'_payload_flux.json'\n",
    "mask_preprocessing_engine.plot(payload_address=mask_payload_file_path)\n",
    "\n",
    "#: Normalize the images before passing it to mask engine as we are using a CNN to perform the operation\n",
    "image = image_preprocessing_engine(payload_address=image_payload_file_path)\n",
    "image = image - min(image.flatten())\n",
    "image = image / max(image.flatten())\n",
    "mask_maker_engine.plot(image=image)\n",
    "\n",
    "signal_maker_engine.plot(dispersed_freq_time=mask_maker_engine(image=image))\n",
    "print(f'Label is {label_reader_engine(filename=image_payload_file_path)}')"
   ]
  },
  {
   "cell_type": "markdown",
   "metadata": {},
   "source": [
    "#### Train CNNs"
   ]
  },
  {
   "cell_type": "markdown",
   "metadata": {},
   "source": [
    "- Setup Training datasets    \n",
    "    - Image-Mask pair dataset\n",
    "    - InMask-Mask pair dataset\n",
    "    - Signal-Label pair dataset"
   ]
  },
  {
   "cell_type": "code",
   "execution_count": null,
   "metadata": {},
   "outputs": [],
   "source": [
    "image_tag='train_v0_*_payload_detected.json' #: '*' in the name is the index place holder of a image in the image set\n",
    "image_directory='./syn_data/payloads/'\n",
    "\n",
    "mask_tag = 'train_v0_*_payload_flux.json'\n",
    "mask_directory='./syn_data/payloads/'\n",
    "\n",
    "image_mask_train_dataset = ImageToMaskDataset(\n",
    "                        image_tag = image_tag,\n",
    "                        mask_tag= mask_tag,\n",
    "                        image_directory = image_directory,\n",
    "                        mask_directory = mask_directory,\n",
    "                        image_engine=image_preprocessing_engine,\n",
    "                        mask_engine=mask_preprocessing_engine\n",
    "                        )\n",
    "inmask_mask_train_dataset = InMaskToMaskDataset(\n",
    "                        image_tag = image_tag,\n",
    "                        mask_tag= mask_tag,\n",
    "                        image_directory = image_directory,\n",
    "                        mask_directory = mask_directory,\n",
    "                        mask_maker_engine=mask_maker_engine,\n",
    "                        image_engine=image_preprocessing_engine,\n",
    "                        mask_engine=mask_preprocessing_engine\n",
    "                        )\n",
    "\n",
    "signal_label_train_dataset = SignalToLabelDataset(mask_tag=mask_tag,\n",
    "                                            mask_directory=mask_directory,\n",
    "                                            mask_engine=mask_preprocessing_engine,\n",
    "                                            )"
   ]
  },
  {
   "cell_type": "markdown",
   "metadata": {},
   "source": [
    "- Plot pair from datasets"
   ]
  },
  {
   "cell_type": "code",
   "execution_count": null,
   "metadata": {},
   "outputs": [],
   "source": [
    "idx = 0\n",
    "image_mask_train_dataset.plot(index=idx)\n",
    "inmask_mask_train_dataset.plot(index=idx)\n",
    "signal_label_train_dataset.plot(index=idx)"
   ]
  },
  {
   "cell_type": "markdown",
   "metadata": {},
   "source": [
    "- Instantiate the trainers"
   ]
  },
  {
   "cell_type": "code",
   "execution_count": null,
   "metadata": {},
   "outputs": [],
   "source": [
    "store_trained_model_image2mask_at = './syn_data/model/trained_UNet_test_v0.pt'\n",
    "image2mask_network_trainer = TrainImageToMaskNetworkModel(\n",
    "                                model=UNet(),\n",
    "                                num_epochs=10,\n",
    "                                store_trained_model_at=store_trained_model_image2mask_at,\n",
    "                                loss_criterion = WeightedBCELoss(pos_weight=3,neg_weight=1)                                \n",
    "                                )\n",
    "\n",
    "store_trained_model_inmask2mask_at = './syn_data/model/trained_FilterCNN_test_v0.pt'\n",
    "inmask2mask_network_trainer = TrainImageToMaskNetworkModel(\n",
    "                                model= FilterCNN(),\n",
    "                                num_epochs=3,\n",
    "                                store_trained_model_at=store_trained_model_inmask2mask_at,\n",
    "                                loss_criterion = WeightedBCELoss(pos_weight=1,neg_weight=1)                               \n",
    "                                )\n",
    "\n",
    "store_trained_model_signal2label_at: str = './syn_data/model/trained_CNN1D_test_v0.pt'\n",
    "signal2label_network_trainer = TrainSignalToLabelModel(\n",
    "                                model=CNN1D(),\n",
    "                                num_epochs=20,\n",
    "                                loss_criterion=WeightedBCELoss(pos_weight=1,neg_weight=1),\n",
    "                                store_trained_model_at=store_trained_model_signal2label_at,                                                                \n",
    "                                )\n",
    "\n",
    "\n",
    "\n"
   ]
  },
  {
   "cell_type": "markdown",
   "metadata": {},
   "source": [
    "- Start training"
   ]
  },
  {
   "cell_type": "code",
   "execution_count": null,
   "metadata": {},
   "outputs": [],
   "source": [
    "#image2mask_network_trainer(image_mask_pairset=image_mask_train_dataset)"
   ]
  },
  {
   "cell_type": "code",
   "execution_count": null,
   "metadata": {},
   "outputs": [],
   "source": [
    "#inmask2mask_network_trainer(image_mask_pairset=inmask_mask_train_dataset)"
   ]
  },
  {
   "cell_type": "code",
   "execution_count": null,
   "metadata": {},
   "outputs": [],
   "source": [
    "#signal2label_network_trainer(signal_label_pairset=signal_label_train_dataset)"
   ]
  },
  {
   "cell_type": "markdown",
   "metadata": {},
   "source": [
    "- Setup Test datasets\n",
    "    - Image-Mask pair dataset\n",
    "    - InMask-Mask pair dataset\n",
    "    - Signal-Label pair dataset"
   ]
  },
  {
   "cell_type": "code",
   "execution_count": null,
   "metadata": {},
   "outputs": [],
   "source": [
    "image_tag='test_v0_*_payload_detected.json' #: '*' in the name is the index place holder of a image in the image set\n",
    "image_directory='./syn_data/payloads/'\n",
    "\n",
    "mask_tag = 'test_v0_*_payload_flux.json'\n",
    "mask_directory='./syn_data/payloads/'\n",
    "\n",
    "image_mask_test_dataset = ImageToMaskDataset(\n",
    "                        image_tag = image_tag,\n",
    "                        mask_tag= mask_tag,\n",
    "                        image_directory = image_directory,\n",
    "                        mask_directory = mask_directory,\n",
    "                        image_engine=image_preprocessing_engine,\n",
    "                        mask_engine=mask_preprocessing_engine\n",
    "                        )\n",
    "inmask_mask_test_dataset = InMaskToMaskDataset(\n",
    "                        image_tag = image_tag,\n",
    "                        mask_tag= mask_tag,\n",
    "                        image_directory = image_directory,\n",
    "                        mask_directory = mask_directory,\n",
    "                        mask_maker_engine=mask_maker_engine,\n",
    "                        image_engine=image_preprocessing_engine,\n",
    "                        mask_engine=mask_preprocessing_engine\n",
    "                        )\n",
    "\n",
    "signal_label_test_dataset = SignalToLabelDataset(mask_tag=mask_tag,\n",
    "                                            mask_directory=mask_directory,\n",
    "                                            mask_engine=mask_preprocessing_engine,\n",
    "                                            )"
   ]
  },
  {
   "cell_type": "markdown",
   "metadata": {},
   "source": [
    "- Plot pair from datasets"
   ]
  },
  {
   "cell_type": "code",
   "execution_count": null,
   "metadata": {},
   "outputs": [],
   "source": [
    "idx =50\n",
    "image_mask_test_dataset.plot(index=idx)\n",
    "inmask_mask_test_dataset.plot(index=idx)\n",
    "signal_label_test_dataset.plot(index=idx)"
   ]
  },
  {
   "cell_type": "markdown",
   "metadata": {},
   "source": [
    "- Start testing on test dataset"
   ]
  },
  {
   "cell_type": "code",
   "execution_count": null,
   "metadata": {},
   "outputs": [],
   "source": [
    "idx = 0\n",
    "image = image_mask_test_dataset[idx][0]\n",
    "mask = image_mask_test_dataset[idx][1]\n",
    "pred = image2mask_network_trainer.test_model(image=image,plot_pred=True)\n",
    "pred_filtered = inmask2mask_network_trainer.test_model(image=mask,plot_pred=True)\n",
    "label = signal2label_network_trainer.test_model(mask=mask.squeeze().detach().numpy(),plot_pred=True)\n"
   ]
  },
  {
   "cell_type": "markdown",
   "metadata": {},
   "source": [
    "#### Imports for pipelines"
   ]
  },
  {
   "cell_type": "code",
   "execution_count": null,
   "metadata": {},
   "outputs": [],
   "source": [
    "from src.pulsar_analysis.information_packet_formats import Payload\n",
    "from src.pulsar_analysis.pipeline_methods import ImageDataSet, ImageReader, PipelineImageToDelGraphtoIsPulsar,PipelineImageToFilterDelGraphtoIsPulsar,LabelDataSet,LabelReader"
   ]
  },
  {
   "cell_type": "markdown",
   "metadata": {},
   "source": [
    "#### Analysis Pipelines"
   ]
  },
  {
   "cell_type": "markdown",
   "metadata": {},
   "source": [
    "- Instantiate Pipelines for detecting only pulsars\n",
    "    - Pipeline: Segment -> DelayGraph -> Label\n",
    "    - Pipeline: Segment -> Filtered Segment -> DelayGraph -> Label"
   ]
  },
  {
   "cell_type": "code",
   "execution_count": null,
   "metadata": {},
   "outputs": [],
   "source": [
    "ppl1 = PipelineImageToDelGraphtoIsPulsar(image_to_mask_network=UNet(),\n",
    "                                        trained_image_to_mask_network_path=store_trained_model_image2mask_at,\n",
    "                                        signal_to_label_network=CNN1D(),\n",
    "                                        trained_signal_to_label_network=store_trained_model_signal2label_at)\n",
    "\n",
    "ppl1f = PipelineImageToFilterDelGraphtoIsPulsar(image_to_mask_network=UNet(),\n",
    "                                        trained_image_to_mask_network_path=store_trained_model_image2mask_at,\n",
    "                                        mask_filter_network=FilterCNN(),\n",
    "                                        trained_mask_filter_network_path=store_trained_model_inmask2mask_at,\n",
    "                                        signal_to_label_network=CNN1D(),\n",
    "                                        trained_signal_to_label_network=store_trained_model_signal2label_at)"
   ]
  },
  {
   "cell_type": "markdown",
   "metadata": {},
   "source": [
    "- Set the datasets for testing"
   ]
  },
  {
   "cell_type": "code",
   "execution_count": null,
   "metadata": {},
   "outputs": [],
   "source": [
    "im_set = ImageDataSet(image_tag=image_tag,image_directory=image_directory,image_reader_engine=ImageReader(file_type=Payload([]),do_average=True))\n",
    "m_set = ImageDataSet(image_tag=mask_tag,image_directory=mask_directory,image_reader_engine=ImageReader(file_type=Payload([]),do_average=True,do_binarize=True))\n",
    "label_set = LabelDataSet(image_tag=image_tag,image_directory=image_directory,label_reader_engine=LabelReader(file_type=Payload([])))"
   ]
  },
  {
   "cell_type": "markdown",
   "metadata": {},
   "source": [
    "- Test on test dataset"
   ]
  },
  {
   "cell_type": "code",
   "execution_count": null,
   "metadata": {},
   "outputs": [],
   "source": [
    "ppl1.display_results_in_batch(image_data_set=im_set,mask_data_set=m_set,label_data_set=label_set,randomize=True,ids_toshow=[71,96])"
   ]
  },
  {
   "cell_type": "code",
   "execution_count": null,
   "metadata": {},
   "outputs": [],
   "source": [
    "ppl1f.display_results_in_batch(image_data_set=im_set,mask_data_set=m_set,label_data_set=label_set,randomize=True,ids_toshow=[71,96])"
   ]
  },
  {
   "cell_type": "markdown",
   "metadata": {},
   "source": [
    "- Instantiate Pipelines for detecting different categories\n",
    "    - Pipeline: Segment -> CC -> Categories\n",
    "    - Pipeline: Segment -> Filtered Segment -> CC -> Categories"
   ]
  },
  {
   "cell_type": "code",
   "execution_count": null,
   "metadata": {},
   "outputs": [],
   "source": [
    "ppl2 = PipelineImageToCCtoLabels(image_to_mask_network=UNet(),\n",
    "                                trained_image_to_mask_network_path=store_trained_model_image2mask_at,\n",
    "                                min_cc_size_threshold=5\n",
    "                                )\n",
    "ppl2f = PipelineImageToFilterToCCtoLabels(image_to_mask_network=UNet(),\n",
    "                                trained_image_to_mask_network_path=store_trained_model_image2mask_at,\n",
    "                                mask_filter_network=FilterCNN(),\n",
    "                                trained_mask_filter_network_path=store_trained_model_inmask2mask_at,\n",
    "                                min_cc_size_threshold=5)"
   ]
  },
  {
   "cell_type": "markdown",
   "metadata": {},
   "source": [
    "- Test on test dataset"
   ]
  },
  {
   "cell_type": "code",
   "execution_count": null,
   "metadata": {},
   "outputs": [],
   "source": [
    "ppl2.display_results_in_batch(image_data_set=im_set,mask_data_set=m_set,label_data_set=label_set,randomize=True,ids_toshow=[71,96])"
   ]
  },
  {
   "cell_type": "code",
   "execution_count": null,
   "metadata": {},
   "outputs": [],
   "source": [
    "ppl2f.display_results_in_batch(image_data_set=im_set,mask_data_set=m_set,label_data_set=label_set,randomize=True,ids_toshow=[71,96])"
   ]
  },
  {
   "cell_type": "markdown",
   "metadata": {},
   "source": [
    "- Measure Accuracy in test dataset"
   ]
  },
  {
   "cell_type": "code",
   "execution_count": null,
   "metadata": {},
   "outputs": [],
   "source": [
    "#ppl1f.validate_efficiency(image_data_set=im_set,label_data_set=label_set)"
   ]
  },
  {
   "cell_type": "markdown",
   "metadata": {},
   "source": [
    "#### Test pipelines in real world"
   ]
  },
  {
   "cell_type": "markdown",
   "metadata": {},
   "source": [
    "- Load data"
   ]
  },
  {
   "cell_type": "code",
   "execution_count": null,
   "metadata": {},
   "outputs": [],
   "source": [
    "import numpy as np\n",
    "image_directory_npy ='path_to_real_image_data' #: load numpy memmap array containing real pulsar dispersion graphs. If not then design your own dataloader class \n",
    "label_directory_npy ='path_to_real_label_data' #: load numpy  array containing corrsponding label. If not then design your own dataloader class \n",
    "data = np.load(file=image_directory_npy,mmap_mode='r')\n",
    "data_label = np.load(file=label_directory_npy,mmap_mode='r')\n",
    "offset = 5000\n",
    "size_of_set = 500\n",
    "data_subset = data[offset+1:offset+size_of_set,:,:]\n",
    "data_label_subset = data_label[offset+1:offset+size_of_set]"
   ]
  },
  {
   "cell_type": "markdown",
   "metadata": {},
   "source": [
    "- Deploy Pipelines"
   ]
  },
  {
   "cell_type": "code",
   "execution_count": null,
   "metadata": {},
   "outputs": [],
   "source": [
    "ppl1.test_on_real_data_from_npy_files(image_data_set=data_subset,image_label_set=data_label_subset,plot_details=True,plot_randomly=True,batch_size=2)"
   ]
  },
  {
   "cell_type": "code",
   "execution_count": null,
   "metadata": {},
   "outputs": [],
   "source": [
    "ppl1f.test_on_real_data_from_npy_files(image_data_set=data_subset[8:10,:,:],image_label_set=data_label_subset[8:10],plot_details=True,plot_randomly=True,batch_size=2)"
   ]
  },
  {
   "cell_type": "code",
   "execution_count": null,
   "metadata": {},
   "outputs": [],
   "source": [
    "ppl2.test_on_real_data_from_npy_files(image_data_set=data_subset,image_label_set=data_label_subset,plot_randomly=True,batch_size=2)"
   ]
  },
  {
   "cell_type": "code",
   "execution_count": null,
   "metadata": {},
   "outputs": [],
   "source": [
    "ppl2f.test_on_real_data_from_npy_files(image_data_set=data_subset[8:10,:,:],image_label_set=data_label_subset[8:10],plot_randomly=True,batch_size=2)"
   ]
  }
 ],
 "metadata": {
  "kernelspec": {
   "display_name": "env_pulsarSA",
   "language": "python",
   "name": "python3"
  },
  "language_info": {
   "codemirror_mode": {
    "name": "ipython",
    "version": 3
   },
   "file_extension": ".py",
   "mimetype": "text/x-python",
   "name": "python",
   "nbconvert_exporter": "python",
   "pygments_lexer": "ipython3",
   "version": "3.10.11"
  }
 },
 "nbformat": 4,
 "nbformat_minor": 2
}
