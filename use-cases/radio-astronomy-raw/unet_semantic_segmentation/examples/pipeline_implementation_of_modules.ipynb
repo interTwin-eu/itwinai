{
 "cells": [
  {
   "cell_type": "markdown",
   "metadata": {},
   "source": [
    "### Import modules"
   ]
  },
  {
   "cell_type": "code",
   "execution_count": null,
   "metadata": {},
   "outputs": [],
   "source": [
    "from os import chdir\n",
    "import matplotlib.pyplot as plt\n",
    "%matplotlib inline\n",
    "chdir('../')\n",
    "from pulsar_simulation.generate_data_pipeline import generate_example_payloads_for_training\n",
    "\n",
    "from src.pulsar_analysis.train_neural_network_model import ImageMaskPair\n",
    "from src.pulsar_analysis.preprocessing import PrepareFreqTimeImage, BinarizeToMask\n",
    "from src.pulsar_analysis.postprocessing import DelayGraph,LineClassifier,ConnectedComponents,FitSegmentedTraces"
   ]
  },
  {
   "cell_type": "markdown",
   "metadata": {},
   "source": [
    "Generate data for training using PulsarDT"
   ]
  },
  {
   "cell_type": "code",
   "execution_count": null,
   "metadata": {},
   "outputs": [],
   "source": [
    "generate_example_payloads_for_training(tag='train_v0_',\n",
    "                                       num_payloads=500,\n",
    "                                       plot_a_example=True,\n",
    "                                       param_folder='./syn_data/runtime/',\n",
    "                                       payload_folder='./syn_data/payloads/',\n",
    "                                       num_cpus=10 #: choose based on the number of nodes/cores in your system\n",
    "                                       )\n",
    "\n",
    "generate_example_payloads_for_training(tag='test_v0_',\n",
    "                                       num_payloads=500,\n",
    "                                       plot_a_example=True,\n",
    "                                       param_folder='./syn_data/runtime/',\n",
    "                                       payload_folder='./syn_data/payloads/',\n",
    "                                       num_cpus=10 #: choose based on the number of nodes/cores in your system\n",
    "                                       )"
   ]
  },
  {
   "cell_type": "markdown",
   "metadata": {},
   "source": [
    "### Analysing Segemented Frequency-Time Dispersion Graphs"
   ]
  },
  {
   "cell_type": "markdown",
   "metadata": {},
   "source": [
    "- Load and Visualize Freq-Time Image and its Mask"
   ]
  },
  {
   "cell_type": "code",
   "execution_count": null,
   "metadata": {},
   "outputs": [],
   "source": [
    "#: Load a Freq-Time Image and its segmented pair as ImageMaskPair object\n",
    "image_payload_address = './syn_data/payloads/test_v0_400_payload_detected.json'\n",
    "mask_payload_address = './syn_data/payloads/test_v0_400_payload_flux.json'\n",
    "\n",
    "image_preprocessing_engine = PrepareFreqTimeImage(\n",
    "                                                do_rot_phase_avg=True,\n",
    "                                                do_binarize=False,\n",
    "                                                do_resize=True,\n",
    "                                                resize_size=(128,128),\n",
    "                                                )\n",
    "mask_preprocessing_engine = PrepareFreqTimeImage(\n",
    "                                                do_rot_phase_avg=True,\n",
    "                                                do_binarize=True,\n",
    "                                                do_resize=True,\n",
    "                                                resize_size=(128,128),\n",
    "                                                binarize_engine=BinarizeToMask(binarize_func='gaussian_blur') # or 'exponential'\n",
    "                                                )\n",
    "\n",
    "im_obj = ImageMaskPair.load_from_payload_address(\n",
    "                                                image_payload_address=image_payload_address,\n",
    "                                                mask_payload_address=mask_payload_address,\n",
    "                                                image_engine=image_preprocessing_engine,\n",
    "                                                mask_engine=mask_preprocessing_engine)\n",
    "\n",
    "#: Visualize \n",
    "im_obj.plot()\n",
    "# or retrieve as tuple of tensors as im_obj()\n",
    "print(im_obj.descriptions[0])"
   ]
  },
  {
   "cell_type": "markdown",
   "metadata": {},
   "source": [
    "- Modes to identify Pulsars using classical image-processing tools\n",
    "    - Delay Graph method\n",
    "    - Connected Components\n"
   ]
  },
  {
   "cell_type": "markdown",
   "metadata": {},
   "source": [
    "- Delay Graph  "
   ]
  },
  {
   "cell_type": "code",
   "execution_count": null,
   "metadata": {},
   "outputs": [],
   "source": [
    "# Retrive the image and mask and calculate delay graph from mask (or image)\n",
    "image,mask = im_obj()\n",
    "delay_graph_engine = DelayGraph(normalize_delays=True)\n",
    "x_lags,y_pos = delay_graph_engine(dispersed_freq_time=mask.detach().numpy())\n",
    "\n",
    "#: Define a Line classifier to detect possibility of a Pulse\n",
    "LineClassifier_obj = LineClassifier(no_pulsar_slope_range=[87,93])\n",
    "LineClassifier_obj.plot(x_lags_normalized=x_lags,y_channels_normalized=y_pos)\n",
    "decision = LineClassifier_obj(x_lags_normalized=x_lags,y_channels_normalized=y_pos)\n",
    "print(f'Decision about presence of pulsar is {decision}')"
   ]
  },
  {
   "cell_type": "markdown",
   "metadata": {},
   "source": [
    "- Connected Components"
   ]
  },
  {
   "cell_type": "code",
   "execution_count": null,
   "metadata": {},
   "outputs": [],
   "source": [
    "#: Instantiate a Connected Component engine\n",
    "cc_obj = ConnectedComponents(small_component_size=10)\n",
    "cc_obj.plot(dispersed_freq_time_segmented=mask.detach().numpy())"
   ]
  },
  {
   "cell_type": "markdown",
   "metadata": {},
   "source": [
    "- Fit the traces in the connected component as line objects"
   ]
  },
  {
   "cell_type": "code",
   "execution_count": null,
   "metadata": {},
   "outputs": [],
   "source": [
    "labelled_skeleton = cc_obj(dispersed_freq_time_segmented=mask.detach().numpy())\n",
    "FitSegmentedTraces.fitt_to_all_traces(labelled_skeleton=labelled_skeleton)\n",
    "FitSegmentedTraces.plot_all_traces(labelled_skeleton=labelled_skeleton)"
   ]
  },
  {
   "cell_type": "markdown",
   "metadata": {},
   "source": [
    "### Train a CNN (Encoder Decoder) model to segment the frequency time graphs "
   ]
  },
  {
   "cell_type": "markdown",
   "metadata": {},
   "source": [
    "### imports"
   ]
  },
  {
   "cell_type": "code",
   "execution_count": null,
   "metadata": {},
   "outputs": [],
   "source": [
    "from src.pulsar_analysis.train_neural_network_model import TrainImageToMaskNetworkModel,ImageToMaskDataset\n",
    "from src.pulsar_analysis.neural_network_models import UNet, CustomLossUNet\n",
    "\n",
    "from src.pulsar_analysis.train_neural_network_model import TrainSignalToLabelModel,SignalToLabelDataset\n",
    "from src.pulsar_analysis.neural_network_models import CNN1D,FilterCNN"
   ]
  },
  {
   "cell_type": "markdown",
   "metadata": {},
   "source": [
    "- Specify paths to train data set and path to store the trained network model"
   ]
  },
  {
   "cell_type": "code",
   "execution_count": null,
   "metadata": {},
   "outputs": [],
   "source": [
    "image_tag='train_v0_*_payload_detected.json' #: '*' in the name is the index place holder of a image in the image set\n",
    "mask_tag='train_v0_*_payload_flux.json'\n",
    "image_directory='./syn_data/payloads/'\n",
    "mask_directory='./syn_data/payloads/'\n",
    "store_trained_model_at: str = './syn_data/model/trained_UNet_test_v0.pt'\n",
    "store_trained_sig_label_model_at: str = './syn_data/model/trained_CNN1D_test_v0.pt'"
   ]
  },
  {
   "cell_type": "markdown",
   "metadata": {},
   "source": [
    "- Instantiate Image to mask dataset"
   ]
  },
  {
   "cell_type": "code",
   "execution_count": null,
   "metadata": {},
   "outputs": [],
   "source": [
    "image_preprocessing_engine = PrepareFreqTimeImage(\n",
    "                                                do_rot_phase_avg=True,\n",
    "                                                do_binarize=False,\n",
    "                                                do_resize=True,\n",
    "                                                resize_size=(128,128),\n",
    "                                                )\n",
    "mask_preprocessing_engine = PrepareFreqTimeImage(\n",
    "                                                do_rot_phase_avg=True,\n",
    "                                                do_binarize=True,\n",
    "                                                do_resize=True,\n",
    "                                                resize_size=(128,128),\n",
    "                                                binarize_engine=BinarizeToMask(binarize_func='gaussian_blur') # or 'exponential'\n",
    "                                                )\n",
    "\n",
    "train_data_set = ImageToMaskDataset(\n",
    "                        image_tag = image_tag,\n",
    "                        mask_tag= mask_tag,\n",
    "                        image_directory = image_directory,\n",
    "                        mask_directory = mask_directory,\n",
    "                        image_engine=image_preprocessing_engine,\n",
    "                        mask_engine=mask_preprocessing_engine\n",
    "                        )\n",
    "train_data_set.plot(index=200)\n",
    "\n",
    "signal_label_dataset = SignalToLabelDataset(mask_tag=mask_tag,\n",
    "                                            mask_directory=mask_directory,\n",
    "                                            mask_engine=mask_preprocessing_engine,\n",
    "                                            )"
   ]
  },
  {
   "cell_type": "markdown",
   "metadata": {},
   "source": [
    "- Instantiate the trainer"
   ]
  },
  {
   "cell_type": "code",
   "execution_count": null,
   "metadata": {},
   "outputs": [],
   "source": [
    "#: Instantiate\n",
    "trainer = TrainImageToMaskNetworkModel(\n",
    "                                model=UNet(),\n",
    "                                num_epochs=5,\n",
    "                                store_trained_model_at=store_trained_model_at,\n",
    "                                loss_criterion = CustomLossUNet()                                \n",
    "                                )\n",
    "\n",
    "#: Start training  \n",
    "#trainer(image_mask_pairset=train_data_set)"
   ]
  },
  {
   "cell_type": "code",
   "execution_count": null,
   "metadata": {},
   "outputs": [],
   "source": [
    "trainer_sig_label = TrainSignalToLabelModel(\n",
    "                                model=CNN1D(),\n",
    "                                num_epochs=10,\n",
    "                                store_trained_model_at=store_trained_sig_label_model_at,                                                                \n",
    "                                )\n",
    "\n",
    "#: Start training  \n",
    "#trainer_sig_label(signal_label_pairset=signal_label_dataset)"
   ]
  },
  {
   "cell_type": "markdown",
   "metadata": {},
   "source": [
    "- Instantiate test data"
   ]
  },
  {
   "cell_type": "code",
   "execution_count": null,
   "metadata": {},
   "outputs": [],
   "source": [
    "#: Instantiate the test data set like train data set\n",
    "image_tag='test_v0_*_payload_detected.json' #: '*' in the name is the index place holder of a image in the image set\n",
    "mask_tag='test_v0_*_payload_flux.json'\n",
    "image_directory='./syn_data/payloads/'\n",
    "mask_directory='./syn_data/payloads/'\n",
    "\n",
    "test_data_set = ImageToMaskDataset(\n",
    "                        image_tag = image_tag,\n",
    "                        mask_tag= mask_tag,\n",
    "                        image_directory = image_directory,\n",
    "                        mask_directory = mask_directory,\n",
    "                        image_engine=image_preprocessing_engine,\n",
    "                        mask_engine=mask_preprocessing_engine\n",
    "                        )\n",
    "test_data_set.plot(index=4)\n",
    "\n",
    "test_signal_label_dataset = SignalToLabelDataset(mask_tag=mask_tag,\n",
    "                                            mask_directory=mask_directory,\n",
    "                                            mask_engine=mask_preprocessing_engine,\n",
    "                                            )"
   ]
  },
  {
   "cell_type": "markdown",
   "metadata": {},
   "source": [
    "- Test"
   ]
  },
  {
   "cell_type": "code",
   "execution_count": null,
   "metadata": {},
   "outputs": [],
   "source": [
    "id = 100\n",
    "test_data_set.plot(index=id)\n",
    "image = test_data_set.__getitem__(index=id)[0]\n",
    "mask = test_data_set.__getitem__(index=id)[1]\n",
    "signal = test_signal_label_dataset.__getitem__(index=id)[0]\n",
    "\n",
    "#print(test_data_set.__get_descriptions__(index=id)[0])\n",
    "#print(signal)\n",
    "pred = trainer.test_model(image=image,plot_pred=True)\n",
    "print(pred.shape,mask.detach().numpy().shape)\n",
    "pred_labels_mask = trainer_sig_label.test_model(mask=mask.squeeze().detach().numpy())\n",
    "pred_labels = trainer_sig_label.test_model(mask=pred)\n",
    "expected_labels = test_signal_label_dataset.__getitem__(index=id)[1]\n",
    "print(f'expected: {expected_labels} and predicted from pred,mask {pred_labels,pred_labels_mask}')\n",
    "\n",
    "labelled_skeleton = cc_obj(dispersed_freq_time_segmented=pred)\n",
    "#FitSegmentedTraces.fitt_to_all_traces(labelled_skeleton=labelled_skeleton)\n",
    "FitSegmentedTraces.plot_all_traces_with_categories(labelled_skeleton=labelled_skeleton,image=image.squeeze())"
   ]
  },
  {
   "cell_type": "code",
   "execution_count": null,
   "metadata": {},
   "outputs": [],
   "source": [
    "id = 168\n",
    "from src.pulsar_analysis.information_packet_formats import Payload\n",
    "from src.pulsar_analysis.pipeline_methods import ImageDataSet, ImageReader, PipelineImageToDelGraphtoIsPulsar,LabelDataSet,LabelReader\n",
    "from src.pulsar_analysis.neural_network_models import UNet,CNN1D\n",
    "image_tag='test_v0_*_payload_detected.json' #: '*' in the name is the index place holder of a image in the image set\n",
    "image_directory='../../../digitwinpulsar/params/payloads/'\n",
    "im_set = ImageDataSet(image_tag=image_tag,image_directory=image_directory,image_reader_engine=ImageReader(file_type=Payload([]),do_average=False))\n",
    "label_set = LabelDataSet(image_tag=image_tag,image_directory=image_directory,label_reader_engine=LabelReader(file_type=Payload([])))\n",
    "image = im_set.__getitem__(idx=id)\n",
    "im_set.plot(idx=id)\n",
    "ppl1 = PipelineImageToDelGraphtoIsPulsar(image_to_mask_network=UNet(),\n",
    "                                        trained_image_to_mask_network_path=store_trained_model_at,\n",
    "                                        signal_to_label_network=CNN1D(),\n",
    "                                        trained_signal_to_label_network=store_trained_sig_label_model_at)\n",
    "label = ppl1(image=image)\n",
    "print(f'is pulsar present? {label}')"
   ]
  },
  {
   "cell_type": "code",
   "execution_count": null,
   "metadata": {},
   "outputs": [],
   "source": [
    "#ppl1.validate_efficiency(image_data_set=im_set,label_data_set=label_set)"
   ]
  },
  {
   "cell_type": "code",
   "execution_count": null,
   "metadata": {},
   "outputs": [],
   "source": [
    "id = 157\n",
    "from src.pulsar_analysis.information_packet_formats import Payload\n",
    "from src.pulsar_analysis.pipeline_methods import ImageDataSet, ImageReader,LabelDataSet,LabelReader,PipelineImageToCCtoLabels\n",
    "from src.pulsar_analysis.neural_network_models import UNet, OneDconvEncoder\n",
    "image_tag='test_v0_*_payload_detected.json' #: '*' in the name is the index place holder of a image in the image set\n",
    "image_directory='../../../digitwinpulsar/params/payloads/'\n",
    "im_set = ImageDataSet(image_tag=image_tag,image_directory=image_directory,image_reader_engine=ImageReader(file_type=Payload([]),do_average=False))\n",
    "label_set = LabelDataSet(image_tag=image_tag,image_directory=image_directory,label_reader_engine=LabelReader(file_type=Payload([])))\n",
    "image = im_set[id]\n",
    "im_set.plot(idx=id)\n",
    "ppl2 = PipelineImageToCCtoLabels(image_to_mask_network=UNet(),\n",
    "                                trained_image_to_mask_network_path=store_trained_model_at,\n",
    "                                )\n",
    "label = ppl2(image=image)\n",
    "print(f'[pulsar, NBRI, BBRFI, None] scores: {list(label.values())}')"
   ]
  },
  {
   "cell_type": "code",
   "execution_count": null,
   "metadata": {},
   "outputs": [],
   "source": [
    "#ppl2.validate_efficiency(image_data_set=im_set,label_data_set=label_set)"
   ]
  },
  {
   "cell_type": "code",
   "execution_count": null,
   "metadata": {},
   "outputs": [],
   "source": [
    "import numpy as np\n",
    "image_directory_npy ='path_to_real_image_data' #: load numpy memmap array containing real pulsar dispersion graphs. If not then design your own dataloader class \n",
    "label_directory_npy ='path_to_real_label_data' #: load numpy  array containing corrsponding label. If not then design your own dataloader class \n",
    "data = np.load(file=image_directory_npy,mmap_mode='r')\n",
    "data_label = np.load(file=label_directory_npy,mmap_mode='r')\n",
    "#data[0,:,:]\n",
    "id = 39\n",
    "is_pulsar = ppl1(image=data[id,:,:],return_bool=True)\n",
    "is_pulsar_cc = ppl2(image=data[id,:,:])\n",
    "is_pulsar_there = data_label[id]\n",
    "print(f'Label:{is_pulsar_there}  is_pulsar {is_pulsar} and cc {is_pulsar_cc}')\n"
   ]
  },
  {
   "cell_type": "code",
   "execution_count": null,
   "metadata": {},
   "outputs": [],
   "source": [
    "offset = 500\n",
    "size_of_set = 500\n",
    "data_subset = data[offset+1:offset+size_of_set,:,:]\n",
    "data_label_subset = data_label[offset+1:offset+size_of_set]"
   ]
  },
  {
   "cell_type": "code",
   "execution_count": null,
   "metadata": {},
   "outputs": [],
   "source": [
    "#type(data_label_subset)==np.memmap\n",
    "ppl1.test_on_real_data_from_npy_files(image_data_set=data_subset,image_label_set=data_label_subset,plot_details=True,plot_randomly=True,batch_size=2)"
   ]
  },
  {
   "cell_type": "code",
   "execution_count": null,
   "metadata": {},
   "outputs": [],
   "source": [
    "#ppl1.test_on_real_data_from_npy_files(image_data_set=data_subset)\n",
    "#np.random.permutation(np.arange(data_subset.shape[0]))[0:5]"
   ]
  }
 ],
 "metadata": {
  "kernelspec": {
   "display_name": "env_pulsarSA",
   "language": "python",
   "name": "python3"
  },
  "language_info": {
   "codemirror_mode": {
    "name": "ipython",
    "version": 3
   },
   "file_extension": ".py",
   "mimetype": "text/x-python",
   "name": "python",
   "nbconvert_exporter": "python",
   "pygments_lexer": "ipython3",
   "version": "3.10.11"
  }
 },
 "nbformat": 4,
 "nbformat_minor": 2
}
