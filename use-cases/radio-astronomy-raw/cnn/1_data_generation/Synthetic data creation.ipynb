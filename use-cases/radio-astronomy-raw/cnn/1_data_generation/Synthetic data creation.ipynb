{
 "cells": [
  {
   "cell_type": "markdown",
   "metadata": {},
   "source": [
    "# Synthetic data creation"
   ]
  },
  {
   "cell_type": "code",
   "execution_count": null,
   "metadata": {},
   "outputs": [],
   "source": [
    "import numpy as np\n",
    "from synthetic_data_creator import DataCreator"
   ]
  },
  {
   "cell_type": "markdown",
   "metadata": {},
   "source": [
    "## Initialization of the inputs"
   ]
  },
  {
   "cell_type": "code",
   "execution_count": null,
   "metadata": {},
   "outputs": [],
   "source": [
    "# Defines the dimensions (height, width) of the 2D arrays representing the instances in the dataset.\n",
    "resolution = (128, 128)\n",
    "\n",
    "# Dictates the composition of the dataset, specifying the quantity of each class to be included.\n",
    "data_structure = {\n",
    "    'None': 50,\n",
    "    'Pulse': 50,\n",
    "    'BBRFI': 50,\n",
    "    'NBRFI': 50,\n",
    "    'Pulse_BBRFI': 50,\n",
    "    'Pulse_NBRFI': 50,\n",
    "    'BBRFI_NBRFI': 50,\n",
    "    'Pulse_BBRFI_NBRFI': 50\n",
    "}\n",
    "\n",
    "# Contains the specifications and parameters for simulating different signal classes. It helps in customizing the characteristics of each signal class.\n",
    "signal_detailes = {\n",
    "    'Pulse': {\n",
    "        'f_hi': 1.53, # GHz\n",
    "        'f_lo': 1.21, # GHz\n",
    "        'DM': 56.758, # Crab pulsar DM\n",
    "        'n_channels': 128,\n",
    "        't_resol': 0.0001024, # seconds\n",
    "        'amplitude': 1, # amplitude\n",
    "        'sigma': 2, # half-width of the pulse (befor scattering)\n",
    "        'location': 20, # position of the pulse in a window (for the first frequency channel)\n",
    "        'noise_amplitude': (0.05, 0.5)\n",
    "    },\n",
    "    'BBRFI': {\n",
    "        'size_range': (0.2, 15),\n",
    "        'location_range': (0, resolution[1]),\n",
    "        'noise_amplitude': (0.05, 0.5)\n",
    "    },\n",
    "    'NBRFI': {\n",
    "        'size_range': (0.2, 15),\n",
    "        'location_range': (0, resolution[0]),\n",
    "        'noise_amplitude': (0.05, 0.5)\n",
    "    }\n",
    "}"
   ]
  },
  {
   "cell_type": "markdown",
   "metadata": {},
   "source": [
    "## Initialisation and creation of the dataset"
   ]
  },
  {
   "cell_type": "code",
   "execution_count": null,
   "metadata": {},
   "outputs": [],
   "source": [
    "# Creating an instance of DataCreator class with the predefined resolution, \n",
    "# data structure dictating the composition of the dataset, and signal details \n",
    "# dictating the parameters for simulating different signal classes.\n",
    "creator = DataCreator(resolution, data_structure, signal_detailes)"
   ]
  },
  {
   "cell_type": "code",
   "execution_count": null,
   "metadata": {},
   "outputs": [],
   "source": [
    "# Initiating the process to create the dataset based on the given data structure and signal details.\n",
    "# This will fill the dataset with instances of different classes as per the definitions in the DataCreator class.\n",
    "creator.create_dataset()"
   ]
  },
  {
   "cell_type": "markdown",
   "metadata": {},
   "source": [
    "# Ploting"
   ]
  },
  {
   "cell_type": "code",
   "execution_count": null,
   "metadata": {},
   "outputs": [],
   "source": [
    "# An example to plot one random spectrogram from the dataset \n",
    "creator.plot_images(creator.data, 1)"
   ]
  },
  {
   "cell_type": "code",
   "execution_count": null,
   "metadata": {},
   "outputs": [],
   "source": [
    "# An example to plot one random spectrogram from the dataset with a proper label\n",
    "creator.plot_images(creator.data, 1, labels=creator.lablels)"
   ]
  },
  {
   "cell_type": "code",
   "execution_count": null,
   "metadata": {},
   "outputs": [],
   "source": [
    "# An example to plot three random spectrograms from the dataset with a proper label\n",
    "creator.plot_images(creator.data, 3, labels=creator.lablels)"
   ]
  },
  {
   "cell_type": "markdown",
   "metadata": {},
   "source": [
    "## Suffling the dataset"
   ]
  },
  {
   "cell_type": "code",
   "execution_count": null,
   "metadata": {},
   "outputs": [],
   "source": [
    "# An example to plot 25 random spectrograms from the first part of dataset with a proper label (all of them should be None)\n",
    "creator.plot_images(creator.data[:50], 25, creator.lablels[:50])"
   ]
  },
  {
   "cell_type": "code",
   "execution_count": null,
   "metadata": {},
   "outputs": [],
   "source": [
    "# Shuffling the created dataset to ensure that the instances of different classes are randomly distributed.\n",
    "creator.suffle_data()"
   ]
  },
  {
   "cell_type": "code",
   "execution_count": null,
   "metadata": {},
   "outputs": [],
   "source": [
    "# An example to plot 25 random spectrograms from the first part of dataset with a proper label (should contain different classes)\n",
    "creator.plot_images(creator.data[:50], 25, creator.lablels[:50])"
   ]
  },
  {
   "cell_type": "markdown",
   "metadata": {},
   "source": [
    "# Saving the dataset"
   ]
  },
  {
   "cell_type": "code",
   "execution_count": null,
   "metadata": {},
   "outputs": [],
   "source": [
    "# Saving the created, shuffled dataset with the name 'test_dataset' in the './saved_data/' directory.\n",
    "creator.save_dataset('test_dataset', '../2_training/data/datasets/')"
   ]
  },
  {
   "cell_type": "code",
   "execution_count": null,
   "metadata": {},
   "outputs": [],
   "source": [
    "# Loading the saved dataset 'test_dataset.npy' from the './saved_data/' directory into the 'data' variable.\n",
    "data = np.load('../2_training/data/datasets/test_dataset.npy')"
   ]
  },
  {
   "cell_type": "code",
   "execution_count": null,
   "metadata": {},
   "outputs": [],
   "source": [
    "# Checking whether the loaded 'data' array is equal to 'creator.data' array, returns True if they are equal, False otherwise.\n",
    "np.array_equal(data, creator.data)"
   ]
  },
  {
   "cell_type": "code",
   "execution_count": null,
   "metadata": {},
   "outputs": [],
   "source": [
    "# Loading the labels corresponding to the instances in the dataset from the saved file into the 'labels' variable.\n",
    "labels = np.load('../2_training/data/datasets/test_dataset_labels.npy')"
   ]
  },
  {
   "cell_type": "code",
   "execution_count": null,
   "metadata": {},
   "outputs": [],
   "source": [
    "# Comparing if the loaded 'labels' array is equal to the 'labels' attribute of the 'creator' object. \n",
    "# This will return True if both arrays have the same shape and elements, False otherwise.\n",
    "np.array_equal(labels, creator.lablels)"
   ]
  }
 ],
 "metadata": {
  "kernelspec": {
   "display_name": "venv",
   "language": "python",
   "name": "python3"
  },
  "language_info": {
   "codemirror_mode": {
    "name": "ipython",
    "version": 3
   },
   "file_extension": ".py",
   "mimetype": "text/x-python",
   "name": "python",
   "nbconvert_exporter": "python",
   "pygments_lexer": "ipython3",
   "version": "3.10.14"
  },
  "orig_nbformat": 4
 },
 "nbformat": 4,
 "nbformat_minor": 2
}
