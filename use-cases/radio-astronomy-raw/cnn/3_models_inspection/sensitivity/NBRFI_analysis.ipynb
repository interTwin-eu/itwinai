{
 "cells": [
  {
   "cell_type": "markdown",
   "metadata": {},
   "source": [
    "# Initialization and Function Definitions"
   ]
  },
  {
   "cell_type": "code",
   "execution_count": null,
   "metadata": {},
   "outputs": [],
   "source": [
    "import os\n",
    "import sys\n",
    "\n",
    "import glob\n",
    "\n",
    "from prfi_gen.rfi_generator import NBRFI\n",
    "from prfi_gen.utils import get_noised_and_normalized_array\n",
    "\n",
    "import numpy as np\n",
    "import pandas as pd\n",
    "import tensorflow as tf\n",
    "import matplotlib.pyplot as plt\n",
    "\n",
    "from tqdm.notebook import trange, tqdm"
   ]
  },
  {
   "cell_type": "code",
   "execution_count": 23,
   "metadata": {},
   "outputs": [],
   "source": [
    "def create_step_function(size, position, width):\n",
    "    \"\"\"\n",
    "    Creates an array representing a step function with steps set to 1 \n",
    "    between the given position and the sum of position and width.\n",
    "    \n",
    "    Parameters:\n",
    "    size (int): The size of the resulting step array.\n",
    "    position (int): The starting index of the step in the array.\n",
    "    width (int): The width of the step in the array.\n",
    "    \n",
    "    Returns:\n",
    "    ndarray: An array representing the step function.\n",
    "    \"\"\"\n",
    "    step_array = np.zeros(size)\n",
    "    \n",
    "    # Set the values within the step range to 1\n",
    "    step_array[position:position+width] = 1\n",
    "    \n",
    "    return step_array\n",
    "\n",
    "\n",
    "def get_intest(pulse, edge):\n",
    "    \"\"\"\n",
    "    Calculates the ratio of the maximum of the on_pulse to the standard deviation of the off_pulse.\n",
    "    \n",
    "    Parameters:\n",
    "    pulse (ndarray): One-dimensional array representing the pulse.\n",
    "    edge (int): The index at which to divide the pulse into on_pulse and off_pulse.\n",
    "    \n",
    "    Returns:\n",
    "    float: The rounded ratio of the maximum of on_pulse to the standard deviation of off_pulse.\n",
    "    \"\"\"\n",
    "    on_pulse = pulse[:edge]\n",
    "    off_pulse = pulse[edge:]\n",
    "    \n",
    "    return np.round(on_pulse.max() / off_pulse.std(), 1)\n",
    "\n",
    "\n",
    "def get_intensity(array, loc, width):\n",
    "    \"\"\"\n",
    "    Calculates the maximum intensity for each line in the given array.\n",
    "    \n",
    "    Parameters:\n",
    "    array (ndarray): Two-dimensional array representing multiple lines.\n",
    "    loc (int): The location index around which to calculate intensity.\n",
    "    width (int): The width around the location index to consider for calculating intensity.\n",
    "    \n",
    "    Returns:\n",
    "    float: The rounded maximum intensity calculated across all lines in the array.\n",
    "    \"\"\"\n",
    "    ins_list = []\n",
    "    for line in array:\n",
    "        left_edge = loc - 3*width \n",
    "        right_edge = loc + 3*width\n",
    "        shift = int(round(left_edge, 0))\n",
    "        if left_edge > 0:\n",
    "            pulse = np.roll(line, -1*shift)\n",
    "        else:\n",
    "            pulse = line\n",
    "               \n",
    "        edge = int(right_edge - shift)\n",
    "    \n",
    "        \n",
    "        ins_list.append(get_intest(pulse, edge))\n",
    "    \n",
    "    return np.round(np.max(ins_list), 2)\n",
    "\n",
    "\n",
    "def get_complex_rfi(num):\n",
    "    \"\"\"\n",
    "    Generates complex Radio Frequency Interference (RFI) by adding multiple RFIs together.\n",
    "    \n",
    "    Parameters:\n",
    "    num (int): The number of RFIs to generate and add together.\n",
    "    \n",
    "    Returns:\n",
    "    ndarray: An array representing the generated complex RFI.\n",
    "    \"\"\"\n",
    "    nbrfi = NBRFI(128, 128)\n",
    "    \n",
    "    rfi = nbrfi.get_rfi(np.random.uniform(0.5, 1.5), np.random.randint(1, 5), np.random.randint(10, 120))\n",
    "    for _ in range(num - 1):\n",
    "        rfi += nbrfi.get_rfi(np.random.uniform(0.5, 1.5), np.random.randint(1, 10), np.random.randint(10, 120))\n",
    "    \n",
    "    return rfi"
   ]
  },
  {
   "cell_type": "markdown",
   "metadata": {},
   "source": [
    "# Setting Paths"
   ]
  },
  {
   "cell_type": "code",
   "execution_count": 3,
   "metadata": {},
   "outputs": [],
   "source": [
    "PATH_MODELS = '../models/'"
   ]
  },
  {
   "cell_type": "code",
   "execution_count": null,
   "metadata": {},
   "outputs": [],
   "source": [
    "models = glob.glob(f'{PATH_MODELS}*.keras')\n",
    "models"
   ]
  },
  {
   "cell_type": "markdown",
   "metadata": {},
   "source": [
    "# Visualizing Noise-Added RFIs\n",
    "\n",
    "A series of subplots are generated to visualize the effect of added noise to Radio Frequency Interferences (RFIs), with different noise levels applied to each subplot, aiding in the examination of signal clarity and integrity under various noise conditions."
   ]
  },
  {
   "cell_type": "code",
   "execution_count": null,
   "metadata": {},
   "outputs": [],
   "source": [
    "nbrfi = NBRFI(128, 128)\n",
    "noise_list = np.linspace(0.01, 1.5, 25)\n",
    "\n",
    "plt.figure(figsize=(10,10))\n",
    "for i in range(25):\n",
    "    plt.subplot(5,5,i+1)\n",
    "    amp = 1\n",
    "    width = 10\n",
    "    loc = 60\n",
    "\n",
    "    rfi = nbrfi.get_rfi(amp, width, loc)\n",
    "    noised_rfi = get_noised_and_normalized_array(rfi, noise_list[i])\n",
    "    \n",
    "    chart = np.mean(noised_rfi.T, axis=0)\n",
    "    chart = chart - np.median(chart)\n",
    "    left_edge = loc - 3*width \n",
    "    right_edge = loc + 3*width\n",
    "    shift = int(round(left_edge, 0))\n",
    "    if left_edge > 0:\n",
    "        pulse = np.roll(chart, -1*shift)\n",
    "    else:\n",
    "        pulse = chart\n",
    "    edge = int(right_edge - shift)\n",
    "    snr = get_intest(pulse, edge)\n",
    "    plt.title(f'Ints: {snr}')\n",
    "    plt.plot(chart, color='black')\n",
    "    \n",
    "plt.tight_layout()    \n",
    "plt.show()"
   ]
  },
  {
   "cell_type": "markdown",
   "metadata": {},
   "source": [
    "# Visualization of Intensity Across Different Noise Levels\n",
    "\n",
    "The intensity of noise-added RFIs is visualized across different noise levels to observe the variation of signal intensity under different noise conditions."
   ]
  },
  {
   "cell_type": "code",
   "execution_count": null,
   "metadata": {},
   "outputs": [],
   "source": [
    "plt.figure(figsize=(10,10))\n",
    "for i in range(25):\n",
    "    plt.subplot(5,5,i+1)\n",
    "    amp = 1\n",
    "    width = 10\n",
    "    loc = 60\n",
    "\n",
    "    rfi = nbrfi.get_rfi(amp, width, loc)\n",
    "    noised_rfi = get_noised_and_normalized_array(rfi, noise_list[i])\n",
    "    ints = get_intensity(noised_rfi, loc, width)\n",
    "\n",
    "    plt.title(f'Ints: {ints}')\n",
    "    plt.imshow(noised_rfi, aspect='auto', cmap='gray')\n",
    "    \n",
    "plt.tight_layout()    \n",
    "plt.show()"
   ]
  },
  {
   "cell_type": "markdown",
   "metadata": {},
   "source": [
    "# Evaluation of Model Accuracy Across Different Noise Levels\n",
    "\n",
    "The loaded models are evaluated under varying noise conditions to determine their accuracy and robustness in identifying signals amidst noise, and the results are documented for further analysis."
   ]
  },
  {
   "cell_type": "code",
   "execution_count": null,
   "metadata": {},
   "outputs": [],
   "source": [
    "num_spects = 10\n",
    "labels = np.full(num_spects, 3)\n",
    "noise_amp_list = np.round(np.linspace(0.01, 1.5, 50), 2)\n",
    "noise_amp_list"
   ]
  },
  {
   "cell_type": "code",
   "execution_count": null,
   "metadata": {},
   "outputs": [],
   "source": [
    "for modelname in tqdm(models, desc='Models loop'):\n",
    "    name_part = os.path.basename(modelname).split('-')[0]\n",
    "    loaded_model = tf.keras.models.load_model(modelname)\n",
    "    intensity_array = []\n",
    "    acuracy_list = []\n",
    "\n",
    "    for n_a in tqdm(noise_amp_list, desc='SNR loop'):\n",
    "        temp = []\n",
    "        downsampled_array = np.empty((num_spects, 128, 128))      \n",
    "        \n",
    "        for i in trange(num_spects, leave=False):\n",
    "            amp = 1\n",
    "            width = 10\n",
    "            loc = 60\n",
    "\n",
    "            rfi = nbrfi.get_rfi(amp, width, loc)\n",
    "            noised_rfi = get_noised_and_normalized_array(rfi, n_a)\n",
    "            temp.append(get_intensity(noised_rfi, loc, width))\n",
    "            \n",
    "            downsampled_array[i] = noised_rfi\n",
    " \n",
    "        downsampled_array = np.reshape(downsampled_array, (downsampled_array.shape[0], 128, 128, 1))\n",
    "        intensity_array.append(np.round(np.mean(temp), 1))\n",
    "        acuracy_list.append(loaded_model.evaluate(downsampled_array,  labels, verbose=0)[1])\n",
    " \n",
    "\n",
    "\n",
    "    with open(f'../files/NBRFI_intensity_sensetivity_for_{name_part}.csv', 'w') as file:\n",
    "        file.write('Intensity,ACR\\n')\n",
    "\n",
    "        for intensity, acr in zip(intensity_array, acuracy_list):\n",
    "            file.write(f'{intensity},{acr}\\n')"
   ]
  },
  {
   "cell_type": "markdown",
   "metadata": {},
   "source": [
    "# Visualization of Model Accuracy with Varied Intensity\n",
    "\n",
    "The accuracy of the models concerning different noise intensities is plotted, providing insights into the models' performance and reliability under different noise conditions and intensities."
   ]
  },
  {
   "cell_type": "code",
   "execution_count": null,
   "metadata": {},
   "outputs": [],
   "source": [
    "plt.clf()\n",
    "fig, axs = plt.subplots(1, 2, figsize=(10,5))\n",
    "\n",
    "# Direct to the correct directory\n",
    "directory = \"../files/\"\n",
    "zoom = (8, 18)\n",
    "\n",
    "for file in sorted(glob.glob(f'{directory}NBRFI_intensity_sensetivity_for_*.csv')):\n",
    "    df = pd.read_csv(file)\n",
    "\n",
    "    # Extracting name_part from filename for the legend\n",
    "    name_part = os.path.basename(file).split(\"NBRFI_intensity_sensetivity_for_\")[1].split(\".csv\")[0]\n",
    "\n",
    "    # Plotting on the first subplot\n",
    "    axs[0].scatter(df['Intensity'], df['ACR'], label=name_part, s=15)\n",
    "    axs[0].plot(df['Intensity'], df['ACR'], ls=':')\n",
    "\n",
    "    # Plotting on the second subplot (zoomed)\n",
    "    axs[1].scatter(df['Intensity'], df['ACR'], label=name_part, s=15)\n",
    "    axs[1].plot(df['Intensity'], df['ACR'], ls=':')\n",
    "    axs[1].set_xlim(8, 18)  # Adjust as necessary for your desired zoom level\n",
    "\n",
    "# Setting labels and titles\n",
    "axs[0].set_ylabel('Accuracy of the model')\n",
    "axs[0].set_xlabel('Intensity')\n",
    "axs[0].set_title('Full View')\n",
    "axs[0].grid(True)\n",
    "\n",
    "# axs[1].set_xscale('log') \n",
    "axs[1].set_xlabel('Intensity')\n",
    "axs[1].set_title(f'Zoomed View ({zoom[0]} < SNR < {zoom[1]})')\n",
    "axs[1].grid(True)\n",
    "\n",
    "# Adjusting layout and displaying the legend\n",
    "plt.tight_layout()\n",
    "axs[1].legend(loc='center left', bbox_to_anchor=(1, 0.5))\n",
    "plt.show()\n"
   ]
  },
  {
   "cell_type": "markdown",
   "metadata": {},
   "source": [
    "# Complex RFI Visualization\n",
    "\n",
    "Complex RFIs are generated and visualized to examine the representation and characteristics of multi-component RFIs."
   ]
  },
  {
   "cell_type": "code",
   "execution_count": null,
   "metadata": {},
   "outputs": [],
   "source": [
    "width_list = np.arange(1, 17)\n",
    "plt.figure(figsize=(10,10))\n",
    "for i in range(1, 17):\n",
    "    plt.subplot(4,4,i)\n",
    "    \n",
    "    rfi = get_complex_rfi(i)\n",
    "    noised_rfi = get_noised_and_normalized_array(rfi, 0.01)\n",
    "    plt.title(f'Num: {i}')\n",
    "    plt.imshow(noised_rfi, aspect='auto', cmap='gray')\n",
    "    \n",
    "plt.tight_layout()    \n",
    "plt.show()"
   ]
  },
  {
   "cell_type": "markdown",
   "metadata": {},
   "source": [
    "# Model Evaluation with Varied Number of RFIs\n",
    "\n",
    "The loaded models are evaluated with different numbers of RFIs to assess their adaptability and accuracy in identifying signals with varied complexities, and the results are documented for further analysis."
   ]
  },
  {
   "cell_type": "code",
   "execution_count": null,
   "metadata": {},
   "outputs": [],
   "source": [
    "num_spects = 50\n",
    "labels = np.full(num_spects, 3)\n",
    "num_list = np.arange(1, 21)\n",
    "num_list"
   ]
  },
  {
   "cell_type": "code",
   "execution_count": null,
   "metadata": {},
   "outputs": [],
   "source": [
    "for modelname in tqdm(models, desc='Models loop'):\n",
    "    name_part = os.path.basename(modelname).split('-')[0]\n",
    "    loaded_model = tf.keras.models.load_model(modelname)\n",
    "    num_array = []\n",
    "    acuracy_list = []\n",
    "\n",
    "    for nums in tqdm(num_list, desc='Nums loop'):\n",
    "        downsampled_array = np.empty((num_spects, 128, 128))      \n",
    "        \n",
    "        for i in trange(num_spects, leave=False):\n",
    "            rfi = get_complex_rfi(nums)\n",
    "            noised_rfi = get_noised_and_normalized_array(rfi, 0.01)\n",
    "            \n",
    "            downsampled_array[i] = noised_rfi\n",
    " \n",
    "        downsampled_array = np.reshape(downsampled_array, (downsampled_array.shape[0], 128, 128, 1))\n",
    "        num_array.append(nums)\n",
    "        acuracy_list.append(loaded_model.evaluate(downsampled_array,  labels, verbose=0)[1])\n",
    " \n",
    "    with open(f'../files/NBRFI_nums_sensetivity_for_{name_part}.csv', 'w') as file:\n",
    "        file.write('Nums,ACR\\n')\n",
    "\n",
    "        for nums, acr in zip(num_array, acuracy_list):\n",
    "            file.write(f'{nums},{acr}\\n')"
   ]
  },
  {
   "cell_type": "markdown",
   "metadata": {},
   "source": [
    "# Visualization of Model Accuracy with Varied Number of RFIs\n",
    "\n",
    "The accuracy of the models concerning different numbers of RFIs is visualized to provide insights into the models' adaptability and reliability under varied signal complexities."
   ]
  },
  {
   "cell_type": "code",
   "execution_count": null,
   "metadata": {},
   "outputs": [],
   "source": [
    "directory = \"../files/\"\n",
    "\n",
    "# Create a single plot\n",
    "plt.figure(figsize=(10,6))\n",
    "\n",
    "for file in sorted(glob.glob(f'{directory}NBRFI_nums_sensetivity_for_*.csv')):\n",
    "    df = pd.read_csv(file)\n",
    "\n",
    "    # Extracting name_part from filename for the legend\n",
    "    name_part = os.path.basename(file).split(\"NBRFI_nums_sensetivity_for_\")[1].split(\".csv\")[0]\n",
    "\n",
    "    # Plotting on the single plot\n",
    "    plt.scatter(df['Nums'], df['ACR'], label=name_part, s=15)\n",
    "    plt.plot(df['Nums'], df['ACR'], ls=':')\n",
    "\n",
    "# Setting labels, title and legend\n",
    "plt.ylabel('Accuracy of the model')\n",
    "plt.xlabel('Number of RFIs')\n",
    "plt.title('Accuracy by Different number of RFIs for Different Models')\n",
    "plt.legend(loc='center left', bbox_to_anchor=(1, 0.5))\n",
    "plt.grid(True, ls='--')\n",
    "\n",
    "# Adjusting layout and displaying the plot\n",
    "plt.tight_layout()\n",
    "plt.show()"
   ]
  },
  {
   "cell_type": "markdown",
   "metadata": {},
   "source": [
    "# Visualization of RFIs with Varied Widths\n",
    "\n",
    "RFIs with varied pulse widths are generated and visualized, allowing for the analysis of how pulse width impacts the representation of signals in the interference."
   ]
  },
  {
   "cell_type": "code",
   "execution_count": null,
   "metadata": {},
   "outputs": [],
   "source": [
    "width_list = np.round(np.linspace(1, 30, 25), 2)\n",
    "plt.figure(figsize=(10,10))\n",
    "for i in range(25):\n",
    "    plt.subplot(5,5,i+1)\n",
    "    amp = 1\n",
    "    loc = 60\n",
    "    \n",
    "    nbrfi = NBRFI(128, 128)\n",
    "    rfi = nbrfi.get_rfi(amp, width_list[i], loc)\n",
    "    noised_rfi = get_noised_and_normalized_array(rfi, 0.05)\n",
    "    plt.title(f'W: {width_list[i]}')\n",
    "    plt.imshow(noised_rfi, aspect='auto', cmap='gray')\n",
    "    \n",
    "plt.tight_layout()    \n",
    "plt.show()"
   ]
  },
  {
   "cell_type": "markdown",
   "metadata": {},
   "source": [
    "# Model Evaluation with Varied Pulse Widths\n",
    "\n",
    "The loaded models are evaluated with different pulse widths to assess their adaptability and accuracy in identifying signals with varied widths, and the results are documented for further analysis."
   ]
  },
  {
   "cell_type": "code",
   "execution_count": null,
   "metadata": {},
   "outputs": [],
   "source": [
    "num_spects = 50\n",
    "labels = np.full(num_spects, 3)\n",
    "width_list = np.round(np.linspace(1, 30, 50), 2)\n",
    "width_list"
   ]
  },
  {
   "cell_type": "code",
   "execution_count": null,
   "metadata": {},
   "outputs": [],
   "source": [
    "for modelname in tqdm(models, desc='Models loop'):\n",
    "    name_part = os.path.basename(modelname).split('-')[0]\n",
    "    loaded_model = tf.keras.models.load_model(modelname)\n",
    "    width_array = []\n",
    "    acuracy_list = []\n",
    "\n",
    "    for width in tqdm(width_list, desc='DM loop'):\n",
    "        downsampled_array = np.empty((num_spects, 128, 128))      \n",
    "        \n",
    "        for i in trange(num_spects, leave=False):\n",
    "            amp = 1\n",
    "            loc = 60\n",
    "            \n",
    "            nbrfi = NBRFI(128, 128)\n",
    "            rfi = nbrfi.get_rfi(amp, width, loc)\n",
    "            noised_rfi = get_noised_and_normalized_array(rfi, 0.02)\n",
    "            \n",
    "            downsampled_array[i] = noised_rfi\n",
    " \n",
    "        downsampled_array = np.reshape(downsampled_array, (downsampled_array.shape[0], 128, 128, 1))\n",
    "        width_array.append(width)\n",
    "        acuracy_list.append(loaded_model.evaluate(downsampled_array,  labels, verbose=0)[1])\n",
    "\n",
    "    with open(f'../files/NBRFI_width_sensetivity_for_{name_part}.csv', 'w') as file:\n",
    "        file.write('Width,ACR\\n')\n",
    "\n",
    "        for width, acr in zip(width_array, acuracy_list):\n",
    "            file.write(f'{width},{acr}\\n')"
   ]
  },
  {
   "cell_type": "markdown",
   "metadata": {},
   "source": [
    "# Visualization of Model Accuracy with Varied Pulse Widths\n",
    "\n",
    "The accuracy of the models concerning different pulse widths is visualized, providing insights into the models' adaptability and reliability under varied pulse width conditions."
   ]
  },
  {
   "cell_type": "code",
   "execution_count": null,
   "metadata": {},
   "outputs": [],
   "source": [
    "directory = \"../files/\"\n",
    "\n",
    "# Create a single plot\n",
    "plt.figure(figsize=(10,6))\n",
    "\n",
    "for file in sorted(glob.glob(f'{directory}NBRFI_width_sensetivity_for_*.csv')):\n",
    "    df = pd.read_csv(file)\n",
    "\n",
    "    # Extracting name_part from filename for the legend\n",
    "    name_part = os.path.basename(file).split(\"NBRFI_width_sensetivity_for_\")[1].split(\".csv\")[0]\n",
    "\n",
    "    # Plotting on the single plot\n",
    "    plt.scatter(df['Width'], df['ACR'], label=name_part, s=15)\n",
    "    plt.plot(df['Width'], df['ACR'], ls=':')\n",
    "\n",
    "# Setting labels, title and legend\n",
    "plt.ylabel('Accuracy of the model')\n",
    "plt.xlabel('Width')\n",
    "plt.title('Accuracy by Width for Different Models')\n",
    "plt.legend(loc='center left', bbox_to_anchor=(1, 0.5))\n",
    "plt.grid(True, ls='--')\n",
    "\n",
    "# Adjusting layout and displaying the plot\n",
    "plt.tight_layout()\n",
    "plt.show()"
   ]
  }
 ],
 "metadata": {
  "kernelspec": {
   "display_name": "Python 3",
   "language": "python",
   "name": "python3"
  },
  "language_info": {
   "codemirror_mode": {
    "name": "ipython",
    "version": 3
   },
   "file_extension": ".py",
   "mimetype": "text/x-python",
   "name": "python",
   "nbconvert_exporter": "python",
   "pygments_lexer": "ipython3",
   "version": "3.8.10"
  },
  "orig_nbformat": 4
 },
 "nbformat": 4,
 "nbformat_minor": 2
}
