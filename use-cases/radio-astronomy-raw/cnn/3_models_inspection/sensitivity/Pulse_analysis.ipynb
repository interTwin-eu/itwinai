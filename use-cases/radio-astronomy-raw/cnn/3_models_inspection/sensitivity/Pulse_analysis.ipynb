{
 "cells": [
  {
   "cell_type": "markdown",
   "metadata": {},
   "source": [
    "# Initialization and Function Definitions"
   ]
  },
  {
   "cell_type": "code",
   "execution_count": null,
   "metadata": {},
   "outputs": [],
   "source": [
    "import os\n",
    "import sys\n",
    "\n",
    "import glob\n",
    "\n",
    "from prfi_gen.rfi_generator import Pulse\n",
    "from prfi_gen.utils import get_noised_and_normalized_array\n",
    "\n",
    "import numpy as np\n",
    "import pandas as pd\n",
    "import tensorflow as tf\n",
    "import matplotlib.pyplot as plt\n",
    "\n",
    "from tqdm.notebook import trange, tqdm \n",
    "\n",
    "from skimage.transform import resize"
   ]
  },
  {
   "cell_type": "code",
   "execution_count": 54,
   "metadata": {},
   "outputs": [],
   "source": [
    "def downsample_with_skimage(image, kernel):\n",
    "    \"\"\"\n",
    "    Downsamples the given image using the specified kernel and applies anti-aliasing.\n",
    "\n",
    "    Parameters:\n",
    "    image (ndarray): Input image to be downsampled.\n",
    "    kernel (tuple): Desired output dimensions (height, width).\n",
    "\n",
    "    Returns:\n",
    "    ndarray: Downsampled image with anti-aliasing applied.\n",
    "    \"\"\"\n",
    "    return resize(image, kernel, anti_aliasing=True)\n",
    "\n",
    "\n",
    "def dedispersion(array, delays_list):\n",
    "    \"\"\"\n",
    "    Applies dedispersion to the given array based on the specified delays_list.\n",
    "\n",
    "    Parameters:\n",
    "    array (list of ndarrays): A list where each element is a one-dimensional array, representing a line of data.\n",
    "    delays_list (list of ints): A list where each element is an integer, representing the number of points by which to roll/shift the corresponding line in the array.\n",
    "\n",
    "    Returns:\n",
    "    list of ndarrays: A list of dedispersed arrays.\n",
    "    \"\"\"\n",
    "    return [np.roll(line, points) for line, points in zip(array, delays_list)]\n",
    "\n",
    "\n",
    "def get_SNR(pulse):\n",
    "    \"\"\"\n",
    "    Calculates the Signal-to-Noise Ratio (SNR) for the given pulse.\n",
    "\n",
    "    Parameters:\n",
    "    pulse (ndarray): One-dimensional array representing the pulse for which SNR is to be calculated.\n",
    "\n",
    "    Returns:\n",
    "    float: The calculated SNR, rounded to 1 decimal place.\n",
    "    \"\"\"\n",
    "    shift = np.argmax(pulse) - 20 if np.argmax(pulse) - 20 < 0 else 20 - np.argmax(pulse)  \n",
    "    pulse = np.roll(pulse, shift)\n",
    "    \n",
    "    length = 125\n",
    "    ampl_of_max = []\n",
    "    bins_wights = range(1, 50)\n",
    "\n",
    "    for wight in bins_wights:\n",
    "\n",
    "        r = np.int32(np.round(wight / 2))\n",
    "        epro = np.zeros(length * 2)\n",
    "        epro[0:wight] = np.ones(wight) + epro[0:wight]\n",
    "        p = np.convolve(1 / np.ones(wight), pulse, mode='full')[r:r + length * 2]\n",
    "        n = p[125:wight + length * 2].std()\n",
    "\n",
    "        ampl_of_max.append(np.max(p / n))\n",
    "    \n",
    "    return np.round(np.max(ampl_of_max), 1)\n",
    "\n",
    "def generate_mean_pulse(array):\n",
    "    \"\"\"\n",
    "    Generates the mean pulse from the given array by summing over the axis and subtracting the median of the resulting graph.\n",
    "\n",
    "    Parameters:\n",
    "    array (ndarray): Input multidimensional array from which the mean pulse is to be generated.\n",
    "\n",
    "    Returns:\n",
    "    ndarray: One-dimensional array representing the generated mean pulse.\n",
    "    \"\"\"\n",
    "    graph = np.sum(array, axis=0)\n",
    "    graph -= np.median(graph)\n",
    "    \n",
    "    return graph"
   ]
  },
  {
   "cell_type": "markdown",
   "metadata": {},
   "source": [
    "# Setting Paths"
   ]
  },
  {
   "cell_type": "code",
   "execution_count": 28,
   "metadata": {},
   "outputs": [],
   "source": [
    "PATH_MODELS = '../models/'"
   ]
  },
  {
   "cell_type": "code",
   "execution_count": null,
   "metadata": {},
   "outputs": [],
   "source": [
    "models = glob.glob(f'{PATH_MODELS}*.keras')\n",
    "models"
   ]
  },
  {
   "cell_type": "markdown",
   "metadata": {},
   "source": [
    "# Examples Spectrograms with Varied DM\n",
    "\n",
    "Spectrograms with varied Dispersion Measure (DM) values are generated and visualized to examine how different DM values manifest in the spectrograms."
   ]
  },
  {
   "cell_type": "code",
   "execution_count": null,
   "metadata": {},
   "outputs": [],
   "source": [
    "f_lo, f_hi = 1.21, 1.53\n",
    "n_channels, tresol = 256, 0.0001024\n",
    "\n",
    "plt.figure(figsize=(10,10))\n",
    "\n",
    "dm_list = np.linspace(1, 150, 25)\n",
    "\n",
    "for i, dm in enumerate(dm_list):\n",
    "    plt.subplot(5,5,i+1)\n",
    "    plt.xticks([])\n",
    "    plt.yticks([])\n",
    "    plt.grid(False)\n",
    "    pulse = Pulse(dm, f_hi, f_lo, n_channels, tresol)\n",
    "    pulse.generate_spectrogram(1, 2, 10) # amplitude, sigma, location\n",
    "    spectrogramm = pulse.add_zeros(pulse.compresed_pulse, 150, 'both')\n",
    "    plt.title(np.round(dm, 1))\n",
    "    plt.imshow(spectrogramm[:,:256], aspect='auto', cmap='gray')\n",
    "    \n",
    "plt.tight_layout()    \n",
    "plt.show()"
   ]
  },
  {
   "cell_type": "markdown",
   "metadata": {},
   "source": [
    "# Examples with Random Location of Spectrogram\n",
    "\n",
    "Explanation: Spectrograms at random locations are generated to provide insights into the variations and distribution of pulse signals across different segments of the spectrogram."
   ]
  },
  {
   "cell_type": "code",
   "execution_count": null,
   "metadata": {},
   "outputs": [],
   "source": [
    "plt.figure(figsize=(10,10))\n",
    "dm = 25\n",
    "\n",
    "temp_loc_list = []\n",
    "\n",
    "for i in range(25):\n",
    "    plt.subplot(5,5,i+1)\n",
    "    plt.xticks([])\n",
    "    plt.yticks([])\n",
    "    plt.grid(False)\n",
    "    pulse = Pulse(dm, f_hi, f_lo, n_channels, tresol)\n",
    "    pulse.generate_spectrogram(1, 2, 10) # amplitude, sigma, location\n",
    "    spectrogramm = pulse.add_zeros(pulse.compresed_pulse, 150, 'both')\n",
    "    rand_loc = np.random.randint(0, spectrogramm.shape[1]-256)\n",
    "    temp_loc_list.append(rand_loc)\n",
    "    plt.title(np.round(rand_loc))\n",
    "    plt.imshow(spectrogramm[:,rand_loc:rand_loc+256], aspect='auto', cmap='gray')\n",
    "    \n",
    "plt.tight_layout()    \n",
    "plt.show()"
   ]
  },
  {
   "cell_type": "markdown",
   "metadata": {},
   "source": [
    "# Spectrogram Noise Addition and Normalization\n",
    "\n",
    "Noise is added to spectrograms and visualized to simulate real-world conditions where received signals often contain noise, which is crucial for evaluating model robustness."
   ]
  },
  {
   "cell_type": "code",
   "execution_count": null,
   "metadata": {},
   "outputs": [],
   "source": [
    "plt.figure(figsize=(10,10))\n",
    "dm = 25\n",
    "\n",
    "for i, loc in enumerate(temp_loc_list):\n",
    "    plt.subplot(5,5,i+1)\n",
    "    plt.xticks([])\n",
    "    plt.yticks([])\n",
    "    plt.grid(False)\n",
    "    pulse = Pulse(dm, f_hi, f_lo, n_channels, tresol)\n",
    "    pulse.generate_spectrogram(1, 2, 10) # amplitude, sigma, location\n",
    "    spectrogramm = pulse.add_zeros(pulse.compresed_pulse, 150, 'both')\n",
    "    plt.title(loc)\n",
    "    img = get_noised_and_normalized_array(spectrogramm[:,loc:loc+256], 0.2)\n",
    "    plt.imshow(img, aspect='auto', cmap='gray')\n",
    "    \n",
    "plt.tight_layout()    \n",
    "plt.show()"
   ]
  },
  {
   "cell_type": "markdown",
   "metadata": {},
   "source": [
    "# DM Variation and Model Evaluation\n",
    "\n",
    "Models are evaluated over a specified range of DM, documenting how the models perform under varied DM conditions, and the results are saved for further analysis."
   ]
  },
  {
   "cell_type": "code",
   "execution_count": null,
   "metadata": {},
   "outputs": [],
   "source": [
    "dm_list = range(5, 501, 5)\n",
    "\n",
    "num_spects = 50\n",
    "labels = np.full(num_spects, 1)\n",
    "dm_list"
   ]
  },
  {
   "cell_type": "code",
   "execution_count": null,
   "metadata": {},
   "outputs": [],
   "source": [
    "for modelname in tqdm(models, desc='Models loop'):\n",
    "    name_part = os.path.basename(modelname).split('-')[0]\n",
    "    loaded_model = tf.keras.models.load_model(modelname)\n",
    "\n",
    "    acuracy_list = []\n",
    "\n",
    "    for dm in tqdm(dm_list, desc='DM loop'):\n",
    "    \n",
    "        downsampled_array = np.empty((num_spects, 128, 128))      \n",
    "        for i in trange(num_spects, leave=False):\n",
    "            pulse = Pulse(dm, f_hi, f_lo, n_channels, tresol)\n",
    "            pulse.generate_spectrogram(1, 2, 10) # amplitude, sigma, location\n",
    "            spectrogramm = pulse.add_zeros(pulse.compresed_pulse, 150, 'both')\n",
    " \n",
    "            rand_loc = np.random.randint(0, spectrogramm.shape[1]-256)\n",
    "            noised_pulse = get_noised_and_normalized_array(spectrogramm[:,rand_loc:rand_loc+256], 0.2)\n",
    "            downsampled_array[i] = downsample_with_skimage(noised_pulse, kernel=(128, 128))\n",
    " \n",
    "        downsampled_array = downsampled_array[..., tf.newaxis]\n",
    " \n",
    "        acuracy_list.append(loaded_model.evaluate(downsampled_array,  labels, verbose=0)[1])\n",
    "\n",
    "    with open(f'../files/Pulse_DM_sensetivity_for_{name_part}.csv', 'w') as file:\n",
    "        file.write('DM,ACR\\n')\n",
    "                         \n",
    "        for dm, acr in zip(dm_list, acuracy_list):\n",
    "            file.write(f'{dm},{acr}\\n')\n",
    "    "
   ]
  },
  {
   "cell_type": "markdown",
   "metadata": {},
   "source": [
    "# Model Accuracy Visualization by DM\n",
    "\n",
    "The model accuracy concerning different DMs is visualized, aiding in understanding how models’ performance varies with different Dispersion Measures."
   ]
  },
  {
   "cell_type": "code",
   "execution_count": null,
   "metadata": {},
   "outputs": [],
   "source": [
    "directory = \"../files/\"\n",
    "\n",
    "# Create a single plot\n",
    "plt.figure(figsize=(10,6))\n",
    "\n",
    "for file in sorted(glob.glob(f'{directory}Pulse_DM_sensetivity_for_*.csv')):\n",
    "    df = pd.read_csv(file)\n",
    "\n",
    "    # Extracting name_part from filename for the legend\n",
    "    name_part = os.path.basename(file).split(\"Pulse_DM_sensetivity_for_\")[1].split(\".csv\")[0]\n",
    "\n",
    "    # Plotting on the single plot\n",
    "    plt.scatter(df['DM'], df['ACR'], label=name_part, s=15)\n",
    "    plt.plot(df['DM'], df['ACR'], ls=':')\n",
    "\n",
    "# Setting labels, title and legend\n",
    "plt.ylabel('Accuracy of the model')\n",
    "plt.xlabel('DM')\n",
    "plt.title('Accuracy by DM for Different Models')    \n",
    "plt.legend(loc='center left', bbox_to_anchor=(1, 0.5))\n",
    "plt.grid(True, ls='--')\n",
    "\n",
    "# Adjusting layout and displaying the plot\n",
    "plt.tight_layout()\n",
    "plt.show()"
   ]
  },
  {
   "cell_type": "markdown",
   "metadata": {},
   "source": [
    "# SNR Calculation and Visualization\n",
    "\n",
    "The Signal to Noise Ratio (SNR) is visualized for various amplitudes and the generated pulse is plotted, enabling a clearer understanding and analysis of the SNR in the received signals."
   ]
  },
  {
   "cell_type": "code",
   "execution_count": null,
   "metadata": {},
   "outputs": [],
   "source": [
    "DM = 56.7\n",
    "f_lo, f_hi = 1.21, 1.53\n",
    "n_channels, tresol = 256, 0.0001024\n",
    "\n",
    "f_list = np.linspace(f_hi, f_lo, n_channels)\n",
    "delay_list = Pulse.delays_DM_list(f_list, DM)\n",
    "\n",
    "delays_list_point = [int(round(i, 0)) for i in map(lambda x:x / tresol / 1000, delay_list)]\n",
    "\n",
    "pulse = Pulse(DM, f_hi, f_lo, n_channels, tresol)\n",
    "pulse.generate_spectrogram(1, 2, 10) # amplitude, sigma, location\n",
    "spectrogramm = pulse.add_zeros(pulse.compresed_pulse, 150, 'both')\n",
    "\n",
    "rand_loc = np.random.randint(160, 486)\n",
    "plt.figure(figsize=(10,10))\n",
    "first_amp = 1.5\n",
    "step_amp = 0.06\n",
    "for i in range(25):\n",
    "    plt.subplot(5,5,i+1)\n",
    "    plt.xticks([])\n",
    "    plt.yticks([])\n",
    "    plt.grid(False)\n",
    "    \n",
    "    img = get_noised_and_normalized_array(spectrogramm[:,rand_loc:rand_loc+256], first_amp)\n",
    "    plt.imshow(img, cmap='gray')\n",
    "    dd_array = dedispersion(img, delays_list_point)\n",
    "    graph = generate_mean_pulse(dd_array)\n",
    "    plt.xlabel(f'{get_SNR(graph)}')\n",
    "    \n",
    "    first_amp -= step_amp\n",
    "plt.tight_layout()    \n",
    "plt.show()"
   ]
  },
  {
   "cell_type": "code",
   "execution_count": null,
   "metadata": {},
   "outputs": [],
   "source": [
    "plt.figure(figsize=(10,10))\n",
    "first_amp = 1.5\n",
    "step_amp = 0.06\n",
    "for i in range(25):\n",
    "    plt.subplot(5,5,i+1)\n",
    "    plt.xticks([])\n",
    "    plt.yticks([])\n",
    "    plt.grid(False)\n",
    "    \n",
    "    img = get_noised_and_normalized_array(spectrogramm[:,rand_loc:rand_loc+256], first_amp)\n",
    "    dd_array = dedispersion(img, delays_list_point)\n",
    "    graph = generate_mean_pulse(dd_array)\n",
    "    plt.title(f'{get_SNR(graph)}')\n",
    "    plt.plot(graph / graph.max(), color='black')\n",
    "    #plt.xlim(0, 125)\n",
    "    \n",
    "    first_amp -= step_amp\n",
    "plt.tight_layout()    \n",
    "plt.show()"
   ]
  },
  {
   "cell_type": "markdown",
   "metadata": {},
   "source": [
    "# Noise Amplitude Variation and Model Evaluation\n",
    "\n",
    "The model is evaluated for accuracy with varied noise amplitudes in spectrograms, assessing the resilience and accuracy of the model under different noise conditions."
   ]
  },
  {
   "cell_type": "code",
   "execution_count": null,
   "metadata": {},
   "outputs": [],
   "source": [
    "num_spects = 50\n",
    "labels = np.full(num_spects, 1)\n",
    "noise_amp_list = np.round(np.linspace(0.05, 1.5, 50), 2)\n",
    "noise_amp_list"
   ]
  },
  {
   "cell_type": "code",
   "execution_count": null,
   "metadata": {},
   "outputs": [],
   "source": [
    "for modelname in tqdm(models, desc='Models loop'):\n",
    "    name_part = os.path.basename(modelname).split('-')[0]\n",
    "    loaded_model = tf.keras.models.load_model(modelname)\n",
    "    snr_array = []\n",
    "    acuracy_list = []\n",
    "\n",
    "    for n_a in tqdm(noise_amp_list, desc='Noise amplitude loop'):\n",
    "        temp = []\n",
    "        downsampled_array = np.empty((num_spects, 128, 128))      \n",
    "        \n",
    "        for i in trange(num_spects, leave=False):\n",
    "            rand_loc = np.random.randint(160, 486)\n",
    "            noised_pulse = get_noised_and_normalized_array(spectrogramm[:,rand_loc:rand_loc+256], n_a)\n",
    "            \n",
    "            spctr = dedispersion(noised_pulse, delays_list_point)\n",
    "            graph = generate_mean_pulse(spctr)\n",
    "            temp.append(get_SNR(graph))\n",
    "            \n",
    "            downsampled_array[i] = downsample_with_skimage(noised_pulse, kernel=(128, 128))\n",
    " \n",
    "        downsampled_array = downsampled_array[..., tf.newaxis]\n",
    "        snr_array.append(np.round(np.mean(temp), 1))\n",
    "        acuracy_list.append(loaded_model.evaluate(downsampled_array,  labels, verbose=0)[1])\n",
    "\n",
    "    with open(f'../files/Pulse_SNR_sensetivity_for_{name_part}.csv', 'w') as file:\n",
    "        file.write('SNR,ACR\\n')\n",
    "\n",
    "        for snr, acr in zip(snr_array, acuracy_list):\n",
    "            file.write(f'{snr},{acr}\\n')"
   ]
  },
  {
   "cell_type": "markdown",
   "metadata": {},
   "source": [
    "# Model Accuracy Visualization by SNR\n",
    "\n",
    "The accuracies of models with varied Signal to Noise Ratio (SNR) are visualized, presenting a clear picture of model reliability and performance under different signal strengths."
   ]
  },
  {
   "cell_type": "code",
   "execution_count": null,
   "metadata": {},
   "outputs": [],
   "source": [
    "plt.clf()\n",
    "fig, axs = plt.subplots(1, 2, figsize=(10,5))\n",
    "\n",
    "# Direct to the correct directory\n",
    "directory = \"../files/\"\n",
    "\n",
    "for file in sorted(glob.glob(f'{directory}Pulse_SNR_sensetivity_for_*.csv')):\n",
    "    df = pd.read_csv(file)\n",
    "\n",
    "    # Extracting name_part from filename for the legend\n",
    "    name_part = os.path.basename(file).split(\"Pulse_SNR_sensetivity_for_\")[1].split(\".csv\")[0]\n",
    "\n",
    "    # Plotting on the first subplot\n",
    "    axs[0].scatter(df['SNR'], df['ACR'], label=name_part, s=15)\n",
    "    axs[0].plot(df['SNR'], df['ACR'], ls=':')\n",
    "\n",
    "    # Plotting on the second subplot (zoomed)\n",
    "    axs[1].scatter(df['SNR'], df['ACR'], label=name_part, s=15)\n",
    "    axs[1].plot(df['SNR'], df['ACR'], ls=':')\n",
    "    axs[1].set_xlim(8, 18)  # Adjust as necessary for your desired zoom level\n",
    "\n",
    "# Setting labels and titles\n",
    "axs[0].set_ylabel('Accuracy of the model')\n",
    "axs[0].set_xlabel('SNR')\n",
    "axs[0].set_title('Full View')\n",
    "axs[0].grid(True)\n",
    "\n",
    "# axs[1].set_xscale('log') \n",
    "axs[1].set_xlabel('SNR')\n",
    "axs[1].set_title('Zoomed View (8 < SNR < 18)')\n",
    "axs[1].grid(True)\n",
    "\n",
    "# Adjusting layout and displaying the legend\n",
    "plt.tight_layout()\n",
    "axs[1].legend(loc='center left', bbox_to_anchor=(1, 0.5))\n",
    "plt.show()\n"
   ]
  },
  {
   "cell_type": "markdown",
   "metadata": {},
   "source": [
    "# Pulse Width Variation and Visualization\n",
    "\n",
    "Spectrograms with varied pulse widths are generated and visualized, allowing for an analysis of how pulse width impacts the visual representation of signals in the spectrogram."
   ]
  },
  {
   "cell_type": "code",
   "execution_count": null,
   "metadata": {},
   "outputs": [],
   "source": [
    "DM = 56.7\n",
    "f_lo, f_hi = 1.21, 1.53\n",
    "n_channels, tresol = 256, 0.0001024\n",
    "\n",
    "plt.figure(figsize=(10,10))\n",
    "\n",
    "width_list = range(1, 100, 5)\n",
    "\n",
    "for i, width in enumerate(width_list):\n",
    "    plt.subplot(5,5,i+1)\n",
    "    plt.xticks([])\n",
    "    plt.yticks([])\n",
    "    plt.grid(False)\n",
    "    pulse = Pulse(DM, f_hi, f_lo, n_channels, tresol)\n",
    "    pulse.generate_spectrogram(1, width, 2*width) # amplitude, sigma, location\n",
    "    spectrogramm = pulse.add_zeros(pulse.compresed_pulse, 150, 'both')\n",
    "    plt.title(np.round(width, 1))\n",
    "    plt.imshow(spectrogramm[:,256:512], aspect='auto', cmap='gray')\n",
    "    \n",
    "plt.tight_layout()    \n",
    "plt.show()"
   ]
  },
  {
   "cell_type": "code",
   "execution_count": null,
   "metadata": {},
   "outputs": [],
   "source": [
    "plt.figure(figsize=(10,10))\n",
    "\n",
    "temp_loc_list = []\n",
    "\n",
    "for i, width in enumerate(width_list):\n",
    "    plt.subplot(5,5,i+1)\n",
    "    plt.xticks([])\n",
    "    plt.yticks([])\n",
    "    plt.grid(False)\n",
    "    pulse = Pulse(DM, f_hi, f_lo, n_channels, tresol)\n",
    "    pulse.generate_spectrogram(1, width, 2*width) # amplitude, sigma, location\n",
    "    spectrogramm = pulse.add_zeros(pulse.compresed_pulse, 50, 'both')\n",
    "    rand_loc = np.random.randint(0, spectrogramm.shape[1]-256)\n",
    "    temp_loc_list.append(rand_loc)\n",
    "    plt.title(np.round(rand_loc))\n",
    "    plt.imshow(spectrogramm[:,rand_loc:rand_loc+256], aspect='auto', cmap='gray')\n",
    "    \n",
    "plt.tight_layout()    \n",
    "plt.show()"
   ]
  },
  {
   "cell_type": "code",
   "execution_count": null,
   "metadata": {},
   "outputs": [],
   "source": [
    "plt.figure(figsize=(10,10))\n",
    "\n",
    "for i, loc, width in zip(range(25), temp_loc_list, width_list):\n",
    "    plt.subplot(5,5,i+1)\n",
    "    plt.xticks([])\n",
    "    plt.yticks([])\n",
    "    plt.grid(False)\n",
    "    pulse = Pulse(DM, f_hi, f_lo, n_channels, tresol)\n",
    "    pulse.generate_spectrogram(1, width, 2*width) # amplitude, sigma, location\n",
    "    spectrogramm = pulse.add_zeros(pulse.compresed_pulse, 50, 'both')\n",
    "    plt.title(loc)\n",
    "    img = get_noised_and_normalized_array(spectrogramm[:,loc:loc+256], 0.1)\n",
    "    plt.imshow(img, aspect='auto', cmap='gray')\n",
    "    \n",
    "plt.tight_layout()    \n",
    "plt.show()"
   ]
  },
  {
   "cell_type": "markdown",
   "metadata": {},
   "source": [
    "# Model Evaluation with Varied Pulse Width\n",
    "\n",
    "The accuracy of models is evaluated with varied pulse widths, analyzing the adaptability of models to different pulse conditions."
   ]
  },
  {
   "cell_type": "code",
   "execution_count": null,
   "metadata": {},
   "outputs": [],
   "source": [
    "num_spects = 50\n",
    "labels = np.full(num_spects, 1)\n",
    "width_list = range(1, 101)\n",
    "width_list"
   ]
  },
  {
   "cell_type": "code",
   "execution_count": null,
   "metadata": {},
   "outputs": [],
   "source": [
    "for modelname in tqdm(models, desc='Models loop'):\n",
    "    name_part = os.path.basename(modelname).split('-')[0]\n",
    "    loaded_model = tf.keras.models.load_model(modelname)\n",
    "\n",
    "    acuracy_list = []\n",
    "\n",
    "    for width in tqdm(width_list, desc='Width loop'):\n",
    "    \n",
    "        downsampled_array = np.empty((num_spects, 128, 128))      \n",
    "        \n",
    "        for i in trange(num_spects, leave=False):\n",
    "            pulse = Pulse(DM, f_hi, f_lo, n_channels, tresol)\n",
    "            pulse.generate_spectrogram(1, width, 2*width) # amplitude, sigma, location\n",
    "            spectrogramm = pulse.add_zeros(pulse.compresed_pulse, 50, 'both')\n",
    " \n",
    "            rand_loc = np.random.randint(0, spectrogramm.shape[1]-256)\n",
    "            noised_pulse = get_noised_and_normalized_array(spectrogramm[:,rand_loc:rand_loc+256], 0.2)\n",
    "            downsampled_array[i] = downsample_with_skimage(noised_pulse, kernel=(128, 128))\n",
    " \n",
    "        downsampled_array = downsampled_array[..., tf.newaxis]\n",
    " \n",
    "        acuracy_list.append(loaded_model.evaluate(downsampled_array,  labels, verbose=0)[1])\n",
    "\n",
    "    with open(f'../files/Pulse_width_sensetivity_for_{name_part}.csv', 'w') as file:\n",
    "        file.write('Width,ACR\\n')\n",
    "\n",
    "        for width, acr in zip(width_list, acuracy_list):\n",
    "            file.write(f'{width},{acr}\\n')"
   ]
  },
  {
   "cell_type": "markdown",
   "metadata": {},
   "source": [
    "# Model Accuracy Visualization by Pulse Width\n",
    "\n",
    "The visualization represents the accuracies of different models with varied pulse widths, providing insights into the models' sensitivity and adaptability to pulse width variations."
   ]
  },
  {
   "cell_type": "code",
   "execution_count": null,
   "metadata": {},
   "outputs": [],
   "source": [
    "directory = \"../files/\"\n",
    "\n",
    "# Create a single plot\n",
    "plt.figure(figsize=(10,6))\n",
    "\n",
    "for file in sorted(glob.glob(f'{directory}Pulse_width_sensetivity_for_*.csv')):\n",
    "    df = pd.read_csv(file)\n",
    "\n",
    "    # Extracting name_part from filename for the legend\n",
    "    name_part = os.path.basename(file).split(\"Pulse_width_sensetivity_for_\")[1].split(\".csv\")[0]\n",
    "\n",
    "    # Plotting on the single plot\n",
    "    plt.scatter(df['Width'], df['ACR'], label=name_part, s=15)\n",
    "    plt.plot(df['Width'], df['ACR'], ls=':')\n",
    "\n",
    "# Setting labels, title and legend\n",
    "plt.ylabel('Accuracy of the model')\n",
    "plt.xlabel('Width')\n",
    "plt.title('Accuracy by Width for Different Models')\n",
    "plt.legend(loc='center left', bbox_to_anchor=(1, 0.5))\n",
    "plt.grid(True, ls='--')\n",
    "\n",
    "# Adjusting layout and displaying the plot\n",
    "plt.tight_layout()\n",
    "plt.show()"
   ]
  },
  {
   "cell_type": "code",
   "execution_count": null,
   "metadata": {},
   "outputs": [],
   "source": []
  }
 ],
 "metadata": {
  "kernelspec": {
   "display_name": "Python 3",
   "language": "python",
   "name": "python3"
  },
  "language_info": {
   "codemirror_mode": {
    "name": "ipython",
    "version": 3
   },
   "file_extension": ".py",
   "mimetype": "text/x-python",
   "name": "python",
   "nbconvert_exporter": "python",
   "pygments_lexer": "ipython3",
   "version": "3.8.10"
  },
  "orig_nbformat": 4
 },
 "nbformat": 4,
 "nbformat_minor": 2
}
