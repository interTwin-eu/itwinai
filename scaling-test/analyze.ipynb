{
 "cells": [
  {
   "cell_type": "code",
   "execution_count": 30,
   "metadata": {},
   "outputs": [
    {
     "name": "stdout",
     "output_type": "stream",
     "text": [
      "The autoreload extension is already loaded. To reload it, use:\n",
      "  %reload_ext autoreload\n"
     ]
    }
   ],
   "source": [
    "%load_ext autoreload\n",
    "%autoreload 2"
   ]
  },
  {
   "cell_type": "code",
   "execution_count": 31,
   "metadata": {},
   "outputs": [],
   "source": [
    "import matplotlib.pyplot as plt\n",
    "import pandas as pd\n",
    "import seaborn as sns\n",
    "import numpy as np\n",
    "from pathlib import Path\n",
    "\n",
    "from plot import create_stacked_plot\n",
    "from utils import calculate_comp_and_comm_time\n",
    "sns.set_theme()"
   ]
  },
  {
   "cell_type": "code",
   "execution_count": 32,
   "metadata": {},
   "outputs": [
    {
     "name": "stdout",
     "output_type": "stream",
     "text": [
      "7420\n"
     ]
    },
    {
     "data": {
      "text/html": [
       "<div>\n",
       "<style scoped>\n",
       "    .dataframe tbody tr th:only-of-type {\n",
       "        vertical-align: middle;\n",
       "    }\n",
       "\n",
       "    .dataframe tbody tr th {\n",
       "        vertical-align: top;\n",
       "    }\n",
       "\n",
       "    .dataframe thead th {\n",
       "        text-align: right;\n",
       "    }\n",
       "</style>\n",
       "<table border=\"1\" class=\"dataframe\">\n",
       "  <thead>\n",
       "    <tr style=\"text-align: right;\">\n",
       "      <th></th>\n",
       "      <th>name</th>\n",
       "      <th>node_id</th>\n",
       "      <th>self_cpu_time_total</th>\n",
       "      <th>cpu_time_total</th>\n",
       "      <th>cpu_time_total_str</th>\n",
       "      <th>self_cuda_time_total</th>\n",
       "      <th>cuda_time_total</th>\n",
       "      <th>cuda_time_total_str</th>\n",
       "      <th>calls</th>\n",
       "      <th>num_gpus</th>\n",
       "      <th>global_rank</th>\n",
       "      <th>strategy</th>\n",
       "    </tr>\n",
       "  </thead>\n",
       "  <tbody>\n",
       "    <tr>\n",
       "      <th>0</th>\n",
       "      <td>record_param_comms</td>\n",
       "      <td>-1</td>\n",
       "      <td>1461322</td>\n",
       "      <td>2958723</td>\n",
       "      <td>2.959s</td>\n",
       "      <td>308395</td>\n",
       "      <td>1024729</td>\n",
       "      <td>1.025s</td>\n",
       "      <td>936</td>\n",
       "      <td>8</td>\n",
       "      <td>2</td>\n",
       "      <td>deepspeed</td>\n",
       "    </tr>\n",
       "    <tr>\n",
       "      <th>1</th>\n",
       "      <td>aten::to</td>\n",
       "      <td>-1</td>\n",
       "      <td>4710</td>\n",
       "      <td>921078</td>\n",
       "      <td>921.078ms</td>\n",
       "      <td>0</td>\n",
       "      <td>641451</td>\n",
       "      <td>641.451ms</td>\n",
       "      <td>1886</td>\n",
       "      <td>8</td>\n",
       "      <td>2</td>\n",
       "      <td>deepspeed</td>\n",
       "    </tr>\n",
       "    <tr>\n",
       "      <th>2</th>\n",
       "      <td>aten::_to_copy</td>\n",
       "      <td>-1</td>\n",
       "      <td>3471</td>\n",
       "      <td>920195</td>\n",
       "      <td>920.195ms</td>\n",
       "      <td>0</td>\n",
       "      <td>647386</td>\n",
       "      <td>647.386ms</td>\n",
       "      <td>944</td>\n",
       "      <td>8</td>\n",
       "      <td>2</td>\n",
       "      <td>deepspeed</td>\n",
       "    </tr>\n",
       "    <tr>\n",
       "      <th>3</th>\n",
       "      <td>aten::empty_strided</td>\n",
       "      <td>-1</td>\n",
       "      <td>8191</td>\n",
       "      <td>211755</td>\n",
       "      <td>211.755ms</td>\n",
       "      <td>0</td>\n",
       "      <td>16999</td>\n",
       "      <td>16.999ms</td>\n",
       "      <td>1417</td>\n",
       "      <td>8</td>\n",
       "      <td>2</td>\n",
       "      <td>deepspeed</td>\n",
       "    </tr>\n",
       "    <tr>\n",
       "      <th>4</th>\n",
       "      <td>cudaDeviceGetStreamPriorityRange</td>\n",
       "      <td>-1</td>\n",
       "      <td>97</td>\n",
       "      <td>97</td>\n",
       "      <td>97.000us</td>\n",
       "      <td>31507</td>\n",
       "      <td>31507</td>\n",
       "      <td>31.507ms</td>\n",
       "      <td>4645</td>\n",
       "      <td>8</td>\n",
       "      <td>2</td>\n",
       "      <td>deepspeed</td>\n",
       "    </tr>\n",
       "  </tbody>\n",
       "</table>\n",
       "</div>"
      ],
      "text/plain": [
       "                               name  node_id  self_cpu_time_total  \\\n",
       "0                record_param_comms       -1              1461322   \n",
       "1                          aten::to       -1                 4710   \n",
       "2                    aten::_to_copy       -1                 3471   \n",
       "3               aten::empty_strided       -1                 8191   \n",
       "4  cudaDeviceGetStreamPriorityRange       -1                   97   \n",
       "\n",
       "   cpu_time_total cpu_time_total_str  self_cuda_time_total  cuda_time_total  \\\n",
       "0         2958723             2.959s                308395          1024729   \n",
       "1          921078          921.078ms                     0           641451   \n",
       "2          920195          920.195ms                     0           647386   \n",
       "3          211755          211.755ms                     0            16999   \n",
       "4              97           97.000us                 31507            31507   \n",
       "\n",
       "  cuda_time_total_str  calls num_gpus global_rank   strategy  \n",
       "0              1.025s    936        8           2  deepspeed  \n",
       "1           641.451ms   1886        8           2  deepspeed  \n",
       "2           647.386ms    944        8           2  deepspeed  \n",
       "3            16.999ms   1417        8           2  deepspeed  \n",
       "4            31.507ms   4645        8           2  deepspeed  "
      ]
     },
     "execution_count": 32,
     "metadata": {},
     "output_type": "execute_result"
    }
   ],
   "source": [
    "import re\n",
    "\n",
    "def create_combined_comm_overhead_df(logs_dir: Path, pattern: str) -> pd.DataFrame: \n",
    "  \"\"\"Create a combined DataFrame using all the files in a folder matching a \n",
    "  given RegEx. Note that the pattern has to have three capturing groups, where \n",
    "  the first one is the strategy, the second one the number of GPUs and the \n",
    "  third one the global rank of the worker. \n",
    "  \"\"\"\n",
    "  pattern = re.compile(pattern)\n",
    "  dataframes = []\n",
    "  for entry in logs_dir.iterdir(): \n",
    "    match = pattern.search(str(entry))\n",
    "    if not match: \n",
    "      continue\n",
    "    \n",
    "    # Getting the captured regex groups, i.e. the contents of \"(\\d+)\"\n",
    "    strategy, num_gpus, global_rank = match.groups()\n",
    "    df = pd.read_csv(entry)\n",
    "    df[\"num_gpus\"] = num_gpus\n",
    "    df[\"global_rank\"] = global_rank\n",
    "    df[\"strategy\"] = strategy\n",
    "    \n",
    "    dataframes.append(df)\n",
    "    \n",
    "  df = pd.concat(dataframes)\n",
    "  return df\n",
    "\n",
    "logs_dir = Path(\"logs\")\n",
    "pattern = f\"profile_(\\w+)_(\\d+)_(\\d+)\\.csv$\"\n",
    "df = create_combined_comm_overhead_df(logs_dir=logs_dir, pattern=pattern)\n",
    "\n",
    "# df = pd.concat(dataframes)\n",
    "print(len(df))\n",
    "df.head(5)"
   ]
  },
  {
   "cell_type": "code",
   "execution_count": 33,
   "metadata": {},
   "outputs": [
    {
     "name": "stdout",
     "output_type": "stream",
     "text": [
      "Strategies: ['deepspeed' 'ddp' 'horovod'], GPU Numbers: ['4', '8']\n",
      "Strategy:  deepspeed, Num GPUs: 4, comp_time: 42.20, comm_time: 0.54\n",
      "Strategy:  deepspeed, Num GPUs: 8, comp_time: 42.31, comm_time: 2.42\n",
      "Strategy:        ddp, Num GPUs: 4, comp_time: 14.85, comm_time: 22.13\n",
      "Strategy:        ddp, Num GPUs: 8, comp_time: 42.61, comm_time: 76.41\n",
      "Strategy:    horovod, Num GPUs: 4, comp_time: 41.96, comm_time: 16.66\n",
      "Strategy:    horovod, Num GPUs: 8, comp_time: 41.14, comm_time: 22.51\n",
      "Values: [[0.98731852 0.94592376]\n",
      " [0.40153633 0.35800593]\n",
      " [0.71584043 0.64630768]]\n"
     ]
    }
   ],
   "source": [
    "def get_comp_fraction_full_array(df: pd.DataFrame) -> np.ndarray: \n",
    "  unique_num_gpus = sorted(df[\"num_gpus\"].unique(), key=lambda x: int(x))\n",
    "  unique_strategies = df[\"strategy\"].unique()\n",
    "  values = []\n",
    "\n",
    "  for strategy in unique_strategies: \n",
    "    strategy_values = []\n",
    "    for num_gpus in unique_num_gpus: \n",
    "      filtered_df = df[(df[\"strategy\"] == strategy) & (df[\"num_gpus\"] == num_gpus)]\n",
    "      \n",
    "      # For now we assume that we test all strategies for all sizes, but this might \n",
    "      # be useful to change later\n",
    "      assert len(filtered_df) > 0\n",
    "      comp_time, comm_time = calculate_comp_and_comm_time(df=filtered_df)\n",
    "      comp_fraction = comp_time / (comp_time + comm_time)\n",
    "      strategy_values.append(comp_fraction)\n",
    "      \n",
    "      print(f\"Strategy: {strategy:>10}, Num GPUs: {num_gpus}, comp_time: {comp_time:.2f}, comm_time: {comm_time:.2f}\")\n",
    "    values.append(strategy_values)\n",
    "\n",
    "  return np.array(values)\n",
    "\n",
    "# strategies = df[\"strategy\"].unique()\n",
    "# gpu_numbers = sorted(df[\"num_gpus\"].unique(), key=lambda x: int(x))\n",
    "# print(f\"Strategies: {strategies}, GPU Numbers: {gpu_numbers}\")\n",
    "\n",
    "values = get_comp_fraction_full_array(df)\n",
    "print(f\"Values: {values}\")"
   ]
  },
  {
   "cell_type": "code",
   "execution_count": 34,
   "metadata": {},
   "outputs": [
    {
     "data": {
      "image/png": "[encoded data removed]",
      "text/plain": [
       "<Figure size 600x400 with 1 Axes>"
      ]
     },
     "metadata": {},
     "output_type": "display_data"
    }
   ],
   "source": [
    "fig, ax = create_stacked_plot(values, strategies, gpu_numbers)\n",
    "fig.set_figwidth(6)\n",
    "fig.set_figheight(4)\n",
    "\n",
    "plt.show()"
   ]
  }
 ],
 "metadata": {
  "kernelspec": {
   "display_name": "specialization_project",
   "language": "python",
   "name": "python3"
  },
  "language_info": {
   "codemirror_mode": {
    "name": "ipython",
    "version": 3
   },
   "file_extension": ".py",
   "mimetype": "text/x-python",
   "name": "python",
   "nbconvert_exporter": "python",
   "pygments_lexer": "ipython3",
   "version": "3.9.20"
  }
 },
 "nbformat": 4,
 "nbformat_minor": 2
}
