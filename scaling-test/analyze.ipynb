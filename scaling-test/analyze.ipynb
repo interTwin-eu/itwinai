{
 "cells": [
  {
   "cell_type": "code",
   "execution_count": 1,
   "metadata": {},
   "outputs": [],
   "source": [
    "%load_ext autoreload\n",
    "%autoreload 2"
   ]
  },
  {
   "cell_type": "code",
   "execution_count": 2,
   "metadata": {},
   "outputs": [],
   "source": [
    "import os\n",
    "import matplotlib.pyplot as plt\n",
    "import pandas as pd\n",
    "import seaborn as sns\n",
    "from pathlib import Path\n",
    "\n",
    "from plot import create_stacked_plot\n",
    "from utils import calculate_comp_and_comm_time\n",
    "from generate_comm_plot import create_combined_comm_overhead_df, get_comp_fraction_full_array\n",
    "sns.set_theme()"
   ]
  },
  {
   "cell_type": "code",
   "execution_count": 3,
   "metadata": {},
   "outputs": [
    {
     "name": "stdout",
     "output_type": "stream",
     "text": [
      "Strategy:        ddp, Num. GPUs: 4, Comp. time: 14.85s, Comm. time: 22.34s\n",
      "Strategy:        ddp, Num. GPUs: 8, Comp. time: 42.61s, Comm. time: 77.39s\n",
      "Strategy:  deepspeed, Num. GPUs: 4, Comp. time: 42.20s, Comm. time:  2.18s\n",
      "Strategy:  deepspeed, Num. GPUs: 8, Comp. time: 42.31s, Comm. time:  5.00s\n",
      "Strategy:    horovod, Num. GPUs: 4, Comp. time: 41.96s, Comm. time: 17.66s\n",
      "Strategy:    horovod, Num. GPUs: 8, Comp. time: 41.14s, Comm. time: 23.64s\n"
     ]
    }
   ],
   "source": [
    "logs_dir = Path(\"logs\")\n",
    "pattern = f\"profile_(\\w+)_(\\d+)_(\\d+)\\.csv$\"\n",
    "df = create_combined_comm_overhead_df(logs_dir=logs_dir, pattern=pattern)\n",
    "values = get_comp_fraction_full_array(df)\n",
    "strategies = sorted(df[\"strategy\"].unique())\n",
    "gpu_numbers = sorted(df[\"num_gpus\"].unique(), key=lambda x: int(x))\n",
    "\n",
    "# Generating and showing the plot\n",
    "fig, ax = create_stacked_plot(values, strategies, gpu_numbers)\n",
    "fig.set_figwidth(8)\n",
    "fig.set_figheight(6)\n",
    "output_path = Path(\"plots/temp_plot.png\")\n",
    "plt.savefig(output_path)"
   ]
  },
  {
   "cell_type": "code",
   "execution_count": 26,
   "metadata": {},
   "outputs": [
    {
     "name": "stdout",
     "output_type": "stream",
     "text": [
      "DeepSpeed unique entries: 202\n",
      "DDP unique entries: 222\n",
      "Horovod unique entries: 206\n",
      "Number of overlapping names: 198\n",
      "{'Memcpy DtoH (Device -> Pinned)',\n",
      " 'Memcpy HtoD (Pinned -> Device)',\n",
      " 'aten::expand_as',\n",
      " 'aten::resolve_conj',\n",
      " 'aten::resolve_neg',\n",
      " 'ncclKernel_AllReduce_RING_LL_Sum_float(ncclDevComm*, unsigned long, '\n",
      " 'ncclWork*)',\n",
      " 'ncclKernel_AllReduce_TREE_LL_Sum_float(ncclDevComm*, unsigned long, '\n",
      " 'ncclWork*)',\n",
      " 'void horovod::common::batched_scaled_memcpy_k<float, 8, '\n",
      " 'float>(horovod::common::BatchedD2DParams, float)'}\n",
      "{'c10d::broadcast_',\n",
      " 'nccl:broadcast',\n",
      " 'ncclKernel_Broadcast_RING_LL_Sum_int8_t(ncclDevComm*, unsigned long, '\n",
      " 'ncclWork*)',\n",
      " 'record_param_comms'}\n"
     ]
    }
   ],
   "source": [
    "from pprint import pprint\n",
    "\n",
    "deepspeed_df = df[df[\"strategy\"] == \"deepspeed\"]\n",
    "ddp_df = df[df[\"strategy\"] == \"ddp\"]\n",
    "horovod_df = df[df[\"strategy\"] == \"horovod\"]\n",
    "\n",
    "deepspeed_names = set(deepspeed_df[\"name\"].unique())\n",
    "ddp_names = set(ddp_df[\"name\"].unique())\n",
    "horovod_names = set(horovod_df[\"name\"].unique())\n",
    "\n",
    "print(f\"DeepSpeed unique entries: {len(deepspeed_names)}\")\n",
    "print(f\"DDP unique entries: {len(ddp_names)}\")\n",
    "print(f\"Horovod unique entries: {len(horovod_names)}\")\n",
    "\n",
    "overlapping_names = deepspeed_names.intersection(ddp_names).intersection(horovod_names)\n",
    "\n",
    "print(f\"Number of overlapping names: {len(overlapping_names)}\")\n",
    "\n",
    "pprint(horovod_names - deepspeed_names)\n",
    "pprint(deepspeed_names - horovod_names)"
   ]
  },
  {
   "cell_type": "code",
   "execution_count": null,
   "metadata": {},
   "outputs": [],
   "source": []
  }
 ],
 "metadata": {
  "kernelspec": {
   "display_name": "specialization_project",
   "language": "python",
   "name": "python3"
  },
  "language_info": {
   "codemirror_mode": {
    "name": "ipython",
    "version": 3
   },
   "file_extension": ".py",
   "mimetype": "text/x-python",
   "name": "python",
   "nbconvert_exporter": "python",
   "pygments_lexer": "ipython3",
   "version": "3.9.20"
  }
 },
 "nbformat": 4,
 "nbformat_minor": 2
}
